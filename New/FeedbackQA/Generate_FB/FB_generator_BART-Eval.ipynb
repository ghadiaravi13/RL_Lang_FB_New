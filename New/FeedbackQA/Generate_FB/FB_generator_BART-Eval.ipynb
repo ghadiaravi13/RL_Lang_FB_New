{
 "cells": [
  {
   "cell_type": "code",
   "execution_count": 1,
   "id": "ccce523c-f7e2-459c-89d3-775573e476e7",
   "metadata": {
    "tags": []
   },
   "outputs": [
    {
     "name": "stderr",
     "output_type": "stream",
     "text": [
      "Found cached dataset feedback_qa (/home/raja/.cache/huggingface/datasets/McGill-NLP___feedback_qa/plain_text/1.0.0/20c8f938f417c88303bb7041cea9554c1d14667686d7d7c5dda83dd4f39e5dc4)\n"
     ]
    },
    {
     "data": {
      "application/json": {
       "ascii": false,
       "bar_format": null,
       "colour": null,
       "elapsed": 0.021837949752807617,
       "initial": 0,
       "n": 0,
       "ncols": null,
       "nrows": 43,
       "postfix": null,
       "prefix": "",
       "rate": null,
       "total": 3,
       "unit": "it",
       "unit_divisor": 1000,
       "unit_scale": false
      },
      "application/vnd.jupyter.widget-view+json": {
       "model_id": "65e50b1e13b1492da9b353108236937f",
       "version_major": 2,
       "version_minor": 0
      },
      "text/plain": [
       "  0%|          | 0/3 [00:00<?, ?it/s]"
      ]
     },
     "metadata": {},
     "output_type": "display_data"
    }
   ],
   "source": [
    "import numpy as np\n",
    "import pandas as pd\n",
    "from datasets import load_dataset\n",
    "\n",
    "dataset = load_dataset(\"McGill-NLP/feedbackQA\")"
   ]
  },
  {
   "cell_type": "code",
   "execution_count": 2,
   "id": "4626aded-95e1-47ec-bb47-59914940c8a7",
   "metadata": {
    "tags": []
   },
   "outputs": [],
   "source": [
    "rating_scores = {'Excellent':3 , 'Acceptable':2 , 'Could be Improved':1, 'Bad': -1}\n",
    "\n",
    "def process_df(df):\n",
    "    df['list_feedback'] = df['feedback'].apply(lambda x: [ r + \"___\" + e for r,e in zip(x['rating'],x['explanation']) ])\n",
    "    df['sampled_feedback'] = df['list_feedback'].apply(lambda x: np.random.choice(x).split(\"___\") )\n",
    "    df['rating_score'] = df['sampled_feedback'].apply(lambda x: rating_scores[x[0]])\n",
    "    df['rating'] = df['sampled_feedback'].apply(lambda x: x[0])\n",
    "    df['explanation'] = df['sampled_feedback'].apply(lambda x: x[1])\n",
    "    return df"
   ]
  },
  {
   "cell_type": "code",
   "execution_count": 3,
   "id": "cd2ffa3d-fae5-45d9-89c6-899dba3982fd",
   "metadata": {
    "tags": []
   },
   "outputs": [],
   "source": [
    "train_df = process_df(pd.DataFrame(dataset['train']))\n",
    "val_df = process_df(pd.DataFrame(dataset['validation']))\n",
    "test_df = process_df(pd.DataFrame(dataset['test']))"
   ]
  },
  {
   "cell_type": "code",
   "execution_count": 4,
   "id": "40dc46db-a864-459a-8e7a-b82df484643b",
   "metadata": {
    "tags": []
   },
   "outputs": [],
   "source": [
    "from transformers import AutoTokenizer, AutoModel\n",
    "import torch\n",
    "import torch.nn.functional as F\n",
    "from torch.utils.data import Dataset,DataLoader\n",
    "\n",
    "# Load model from HuggingFace Hub\n",
    "bart_chkpt = 'facebook/bart-large'\n",
    "tokenizer = AutoTokenizer.from_pretrained(bart_chkpt)"
   ]
  },
  {
   "cell_type": "code",
   "execution_count": 5,
   "id": "744c4863-8096-4c67-b473-90e03a0df39c",
   "metadata": {
    "tags": []
   },
   "outputs": [
    {
     "data": {
      "text/html": [
       "<div>\n",
       "<style scoped>\n",
       "    .dataframe tbody tr th:only-of-type {\n",
       "        vertical-align: middle;\n",
       "    }\n",
       "\n",
       "    .dataframe tbody tr th {\n",
       "        vertical-align: top;\n",
       "    }\n",
       "\n",
       "    .dataframe thead th {\n",
       "        text-align: right;\n",
       "    }\n",
       "</style>\n",
       "<table border=\"1\" class=\"dataframe\">\n",
       "  <thead>\n",
       "    <tr style=\"text-align: right;\">\n",
       "      <th></th>\n",
       "      <th>question</th>\n",
       "      <th>answer</th>\n",
       "      <th>feedback</th>\n",
       "      <th>list_feedback</th>\n",
       "      <th>sampled_feedback</th>\n",
       "      <th>rating_score</th>\n",
       "      <th>rating</th>\n",
       "      <th>explanation</th>\n",
       "    </tr>\n",
       "  </thead>\n",
       "  <tbody>\n",
       "    <tr>\n",
       "      <th>0</th>\n",
       "      <td>How do I get help finding a job?</td>\n",
       "      <td>Coronavirus (COVID-19) information for job see...</td>\n",
       "      <td>{'rating': ['Excellent', 'Could be Improved'],...</td>\n",
       "      <td>[Excellent___Has a link to detailed informatio...</td>\n",
       "      <td>[Excellent, Has a link to detailed information...</td>\n",
       "      <td>3</td>\n",
       "      <td>Excellent</td>\n",
       "      <td>Has a link to detailed information about gover...</td>\n",
       "    </tr>\n",
       "    <tr>\n",
       "      <th>1</th>\n",
       "      <td>How do I get help finding a job?</td>\n",
       "      <td>Coronavirus (COVID-19) information for job see...</td>\n",
       "      <td>{'rating': ['Excellent', 'Excellent'], 'explan...</td>\n",
       "      <td>[Excellent___A link to a job search website is...</td>\n",
       "      <td>[Excellent, A link to a job search website is ...</td>\n",
       "      <td>3</td>\n",
       "      <td>Excellent</td>\n",
       "      <td>A link to a job search website is included, as...</td>\n",
       "    </tr>\n",
       "    <tr>\n",
       "      <th>2</th>\n",
       "      <td>How do I get help finding a job?</td>\n",
       "      <td>Coronavirus (COVID-19) information and support...</td>\n",
       "      <td>{'rating': ['Bad', 'Acceptable'], 'explanation...</td>\n",
       "      <td>[Bad___Talks about tax credits for businesses ...</td>\n",
       "      <td>[Acceptable, This answer discusses the Employm...</td>\n",
       "      <td>2</td>\n",
       "      <td>Acceptable</td>\n",
       "      <td>This answer discusses the Employment Fund, whi...</td>\n",
       "    </tr>\n",
       "    <tr>\n",
       "      <th>3</th>\n",
       "      <td>If I am in Australia on a worker holiday marke...</td>\n",
       "      <td>Frequently Asked Questions\\nWorking holiday ma...</td>\n",
       "      <td>{'rating': ['Could be Improved', 'Acceptable']...</td>\n",
       "      <td>[Could be Improved___Answer is about Working H...</td>\n",
       "      <td>[Acceptable, Answer is rather cut and dry but ...</td>\n",
       "      <td>2</td>\n",
       "      <td>Acceptable</td>\n",
       "      <td>Answer is rather cut and dry but is also a lit...</td>\n",
       "    </tr>\n",
       "    <tr>\n",
       "      <th>4</th>\n",
       "      <td>If I am in Australia on a worker holiday marke...</td>\n",
       "      <td>Frequently Asked Questions\\nCOVID-19 Pandemic ...</td>\n",
       "      <td>{'rating': ['Bad', 'Could be Improved'], 'expl...</td>\n",
       "      <td>[Bad___Discusses pandemic visas. Doesn't menti...</td>\n",
       "      <td>[Bad, Discusses pandemic visas. Doesn't mentio...</td>\n",
       "      <td>-1</td>\n",
       "      <td>Bad</td>\n",
       "      <td>Discusses pandemic visas. Doesn't mention the ...</td>\n",
       "    </tr>\n",
       "  </tbody>\n",
       "</table>\n",
       "</div>"
      ],
      "text/plain": [
       "                                            question  \\\n",
       "0                   How do I get help finding a job?   \n",
       "1                   How do I get help finding a job?   \n",
       "2                   How do I get help finding a job?   \n",
       "3  If I am in Australia on a worker holiday marke...   \n",
       "4  If I am in Australia on a worker holiday marke...   \n",
       "\n",
       "                                              answer  \\\n",
       "0  Coronavirus (COVID-19) information for job see...   \n",
       "1  Coronavirus (COVID-19) information for job see...   \n",
       "2  Coronavirus (COVID-19) information and support...   \n",
       "3  Frequently Asked Questions\\nWorking holiday ma...   \n",
       "4  Frequently Asked Questions\\nCOVID-19 Pandemic ...   \n",
       "\n",
       "                                            feedback  \\\n",
       "0  {'rating': ['Excellent', 'Could be Improved'],...   \n",
       "1  {'rating': ['Excellent', 'Excellent'], 'explan...   \n",
       "2  {'rating': ['Bad', 'Acceptable'], 'explanation...   \n",
       "3  {'rating': ['Could be Improved', 'Acceptable']...   \n",
       "4  {'rating': ['Bad', 'Could be Improved'], 'expl...   \n",
       "\n",
       "                                       list_feedback  \\\n",
       "0  [Excellent___Has a link to detailed informatio...   \n",
       "1  [Excellent___A link to a job search website is...   \n",
       "2  [Bad___Talks about tax credits for businesses ...   \n",
       "3  [Could be Improved___Answer is about Working H...   \n",
       "4  [Bad___Discusses pandemic visas. Doesn't menti...   \n",
       "\n",
       "                                    sampled_feedback  rating_score  \\\n",
       "0  [Excellent, Has a link to detailed information...             3   \n",
       "1  [Excellent, A link to a job search website is ...             3   \n",
       "2  [Acceptable, This answer discusses the Employm...             2   \n",
       "3  [Acceptable, Answer is rather cut and dry but ...             2   \n",
       "4  [Bad, Discusses pandemic visas. Doesn't mentio...            -1   \n",
       "\n",
       "       rating                                        explanation  \n",
       "0   Excellent  Has a link to detailed information about gover...  \n",
       "1   Excellent  A link to a job search website is included, as...  \n",
       "2  Acceptable  This answer discusses the Employment Fund, whi...  \n",
       "3  Acceptable  Answer is rather cut and dry but is also a lit...  \n",
       "4         Bad  Discusses pandemic visas. Doesn't mention the ...  "
      ]
     },
     "execution_count": 5,
     "metadata": {},
     "output_type": "execute_result"
    }
   ],
   "source": [
    "train_df.head()"
   ]
  },
  {
   "cell_type": "code",
   "execution_count": 6,
   "id": "619de540-d154-431a-8d5e-bab3bba6d7c2",
   "metadata": {},
   "outputs": [
    {
     "data": {
      "text/plain": [
       "{'input_ids': tensor([[    0, 31414,     6,   141,    32,    47,   608,   116,  1437,     2,\n",
       "         10869,   462, 40386,   139,     2]]), 'attention_mask': tensor([[1, 1, 1, 1, 1, 1, 1, 1, 1, 1, 1, 1, 1, 1, 1]]), 'length': tensor([15])}"
      ]
     },
     "execution_count": 6,
     "metadata": {},
     "output_type": "execute_result"
    }
   ],
   "source": [
    "tokenizer('Hello, how are you doing?'+ f\" {tokenizer.eos_token} \" + \"Hemlooooo\",add_special_tokens=True,return_tensors='pt', return_length=1)"
   ]
  },
  {
   "cell_type": "code",
   "execution_count": 39,
   "id": "a093a991-7536-4082-9bd2-7602825edfdc",
   "metadata": {},
   "outputs": [],
   "source": [
    "import tqdm\n",
    "\n",
    "class feedback_QA_dataset(Dataset):\n",
    "    \n",
    "    def __init__(self,df,max_length=300):\n",
    "        self.df = df\n",
    "        self.max_len = max_length\n",
    "        self.data = []\n",
    "        \n",
    "        for i in tqdm.tqdm(range(len(self.df)),desc='vectorizing..'):\n",
    "            \n",
    "            d = {}\n",
    "            \n",
    "            tok_input = tokenizer(('Question:' + self.df.iloc[i]['question'] + ' Answer: ' + self.df.iloc[i]['answer']).replace(\"\\n\",\" \"),\n",
    "                                  return_token_type_ids=True, \n",
    "                                  add_special_tokens=True, \n",
    "                                  return_length=True,\n",
    "                                  max_length=self.max_len,\n",
    "                                  padding='max_length',\n",
    "                                  truncation='only_first',\n",
    "                                  return_tensors='pt')\n",
    "\n",
    "            feedback = self.df.iloc[i]['explanation']\n",
    "\n",
    "            tok_feedback = tokenizer(feedback, \n",
    "                                     return_token_type_ids=True,\n",
    "                                     add_special_tokens=False,\n",
    "                                     return_length=True,\n",
    "                                     max_length=300, \n",
    "                                     padding='max_length', \n",
    "                                     truncation='only_first',\n",
    "                                     return_tensors='pt')\n",
    "\n",
    "            d['input'] = tok_input['input_ids'].squeeze(0)\n",
    "            d['input_attn'] = tok_input['attention_mask'].squeeze(0)\n",
    "            # d['feedback'] = tok_feedback['input_ids']\n",
    "            # d['feedback_attn'] = tok_feedback['attention_mask']\n",
    "            \n",
    "            labels = tok_feedback['input_ids'].squeeze(0)#[:,1:]#.clone()\n",
    "            labels[labels==tokenizer.pad_token_id] = -100\n",
    "            d['labels'] = labels\n",
    "            \n",
    "            d['feedback_len'] = tok_feedback['length'][0]\n",
    "\n",
    "            self.data.append(d)\n",
    "\n",
    "    def __len__(self):\n",
    "        return len(self.data)\n",
    "    \n",
    "    def __getitem__(self,idx):\n",
    "        return self.data[idx]"
   ]
  },
  {
   "cell_type": "code",
   "execution_count": 40,
   "id": "c69c540d-1963-419c-8c09-08f5d65aa803",
   "metadata": {},
   "outputs": [
    {
     "name": "stderr",
     "output_type": "stream",
     "text": [
      "vectorizing..: 100%|███████████████████████████████████████████████████████████████████████████████████████████████████████████████| 1995/1995 [00:03<00:00, 514.70it/s]\n"
     ]
    }
   ],
   "source": [
    "# train_dataset = feedback_QA_dataset(train_df)\n",
    "# valid_dataset = feedback_QA_dataset(val_df)\n",
    "test_dataset = feedback_QA_dataset(test_df)"
   ]
  },
  {
   "cell_type": "code",
   "execution_count": 41,
   "id": "92049336-0c27-4e1d-b5f7-9791745c5aba",
   "metadata": {},
   "outputs": [],
   "source": [
    "# train_DL = DataLoader(train_dataset,batch_size=5,shuffle=True)\n",
    "# valid_DL = DataLoader(valid_dataset,batch_size=5,shuffle=True)\n",
    "test_DL = DataLoader(test_dataset,batch_size=1,shuffle=False)"
   ]
  },
  {
   "cell_type": "code",
   "execution_count": 32,
   "id": "1da63016-24f0-400e-9a29-9093ab832bbe",
   "metadata": {
    "tags": []
   },
   "outputs": [
    {
     "name": "stdout",
     "output_type": "stream",
     "text": [
      "torch.Size([1, 1, 1024]) torch.Size([1, 1, 500]) torch.Size([1, 1, 500])\n"
     ]
    }
   ],
   "source": [
    "for b in test_DL:\n",
    "    print(b['input'].shape , b['feedback'].shape, b['feedback_attn'].shape)\n",
    "    break"
   ]
  },
  {
   "cell_type": "markdown",
   "id": "b06b77a0-83a9-4789-868b-4d6b17bc60ea",
   "metadata": {
    "tags": []
   },
   "source": [
    "from transformers import BartForConditionalGeneration\n",
    "\n",
    "device = 'cuda:0'\n",
    "\n",
    "bart_model = BartForConditionalGeneration.from_pretrained(bart_chkpt).to(device)\n",
    "\n",
    "with torch.no_grad():\n",
    "    for b in train_DL:\n",
    "        output = bart_model(input_ids=b['input'].to(device),\n",
    "                            decoder_input_ids=b['feedback'].squeeze(1)[:,:-1].to(device),)\n",
    "                            #labels=b['feedback'].squeeze(1)[:,1:].to(device))\n",
    "        print(tokenizer.decode(b['input'][:,0][0],skip_special_tokens=True),\"\\n\\n\")\n",
    "        print(tokenizer.decode(b['feedback'][:,0,:-1][0]))\n",
    "        print(tokenizer.decode(b['feedback'][:,0,1:][0]))\n",
    "        print(output.logits.shape)\n",
    "        break\n",
    "\n",
    "del bart_model"
   ]
  },
  {
   "cell_type": "code",
   "execution_count": 33,
   "id": "97a1fcd9-7fb7-4557-a1ee-023591930420",
   "metadata": {},
   "outputs": [],
   "source": [
    "def train(generator,train_dl,valid_dl,epochs,optimizer,PATIENCE=20,save_dir=None):\n",
    "\n",
    "    if not os.path.exists(save_dir):\n",
    "        os.mkdir(save_dir)\n",
    "    \n",
    "    generator.train()\n",
    "    \n",
    "    loss_acc = 0\n",
    "    num_batches = 0\n",
    "    total_steps = 0\n",
    "    best_valid_loss = np.inf\n",
    "    patience = PATIENCE\n",
    "    \n",
    "    train_loss_arr,valid_loss_arr = [],[]\n",
    "    \n",
    "    optimizer.zero_grad()\n",
    "    generator.zero_grad()\n",
    "    \n",
    "    for E in range(epochs):\n",
    "        \n",
    "        for b in train_dl:\n",
    "            \n",
    "            y = generator(input_ids=b['input'].to(device),\n",
    "                          decoder_input_ids=b['feedback'].squeeze(1)[:,:-1].to(device),\n",
    "                          decoder_attention_mask=b['feedback_attn'].squeeze(1)[:,:-1].to(device))\n",
    "            loss = F.cross_entropy(y.logits.permute(0,2,1), b['feedback'].squeeze(1)[:,1:].to(device), ignore_index=tokenizer.pad_token_id)\n",
    "            optimizer.zero_grad()\n",
    "            loss.backward()\n",
    "            optimizer.step()\n",
    "            \n",
    "            loss_acc += loss.item()\n",
    "            num_batches += 1\n",
    "            total_steps += 1\n",
    "            \n",
    "            train_loss_arr.append(loss_acc/num_batches)\n",
    "            \n",
    "            if total_steps%100==0:\n",
    "                print(\"Epoch:\",E,\"\\t\",\"Steps taken:\",total_steps,\"\\tLoss:\",loss_acc/num_batches)\n",
    "            \n",
    "        #print(\"Epoch:\",E,\"\\t\",\"Steps taken:\",total_steps,\"\\tLoss:\",loss_acc/num_batches)\n",
    "        \n",
    "        torch.save({'model_state':generator.state_dict(),\n",
    "                    'optimizer':optimizer.state_dict(),\n",
    "                    'epoch':E},\n",
    "                    f\"{save_dir}/Epoch_{E}_model_chkpt.pth.tar\")\n",
    "        \n",
    "        valid_loss = validate(generator,valid_dl)\n",
    "        valid_loss_arr.append(valid_loss/len(valid_dl))\n",
    "        \n",
    "        if valid_loss<best_valid_loss:\n",
    "            best_valid_loss = valid_loss\n",
    "            patience = PATIENCE\n",
    "            \n",
    "            torch.save({'model_state':generator.state_dict(),\n",
    "                        'optimizer':optimizer.state_dict(),\n",
    "                        'epoch':E},\n",
    "                        f\"{save_dir}/best_model_chkpt.pth.tar\")\n",
    "        else:\n",
    "            patience -= 1\n",
    "            print(f\"REDUCING PATIENCE...{patience}\")\n",
    "\n",
    "        if patience<=0:\n",
    "            print(\"RUNNING OUT OF PATIENCE... TERMINATING\")\n",
    "            break\n",
    "    \n",
    "    \n",
    "    return train_loss_arr,valid_loss_arr\n",
    "                "
   ]
  },
  {
   "cell_type": "code",
   "execution_count": 34,
   "id": "b5e5931d-65fc-421d-8bf3-4bdb58b8b521",
   "metadata": {},
   "outputs": [],
   "source": [
    "def validate(generator,valid_dl):\n",
    "    \n",
    "    generator.eval()\n",
    "    valid_loss = 0\n",
    "    with torch.no_grad():\n",
    "        for b in valid_dl:\n",
    "            y = generator(input_ids=b['input'].to(device),\n",
    "                          decoder_input_ids=b['feedback'].squeeze(1)[:,:-1].to(device),\n",
    "                          decoder_attention_mask=b['feedback_attn'].squeeze(1)[:,:-1].to(device))\n",
    "            loss = F.cross_entropy(y.logits.permute(0,2,1), b['feedback'].squeeze(1)[:,1:].to(device), ignore_index=tokenizer.pad_token_id)\n",
    "            valid_loss += loss.item()\n",
    "            \n",
    "    print(\"Validation Loss:\",valid_loss)\n",
    "    return valid_loss"
   ]
  },
  {
   "cell_type": "code",
   "execution_count": 42,
   "id": "7d1cb84b-dd2e-495f-845d-03ec726b7bc2",
   "metadata": {
    "tags": []
   },
   "outputs": [],
   "source": [
    "import os\n",
    "\n",
    "from transformers import BartForConditionalGeneration\n",
    "\n",
    "device = 'cuda:1'\n",
    "\n",
    "generator = BartForConditionalGeneration.from_pretrained(bart_chkpt).to(device)\n",
    "\n",
    "# optimizer = torch.optim.AdamW(generator.parameters(),lr=1e-5)\n",
    "\n",
    "# save_dir = 'GenFB_BART_large_chkpts_1'\n",
    "# if not os.path.exists(save_dir):\n",
    "#     os.mkdir(save_dir)\n",
    "\n",
    "# train_loss,valid_loss = train(generator,train_DL,valid_DL,50,optimizer,PATIENCE=5,save_dir=save_dir)"
   ]
  },
  {
   "cell_type": "code",
   "execution_count": null,
   "id": "91101fb6-ccc5-4b70-a781-f80306d79560",
   "metadata": {},
   "outputs": [],
   "source": [
    "import json\n",
    "\n",
    "with open('train_loss.json','w') as f:\n",
    "    json.dump(train_loss,f)\n",
    "\n",
    "with open('valid_loss.json','w') as f:\n",
    "    json.dump(valid_loss,f)"
   ]
  },
  {
   "cell_type": "code",
   "execution_count": null,
   "id": "c1438eb8-e8f1-41bd-ab9c-8c0ee15ab891",
   "metadata": {},
   "outputs": [],
   "source": [
    "train_loss_ds = np.array(train_loss)[np.round(np.linspace(0, len(train_loss) - 1, len(valid_loss))).astype(int)]\n",
    "loss_df = pd.DataFrame({'train_loss':train_loss_ds , 'valid_loss':valid_loss})"
   ]
  },
  {
   "cell_type": "code",
   "execution_count": null,
   "id": "c32161e3-1a96-4893-ac8a-5b567044334c",
   "metadata": {},
   "outputs": [],
   "source": [
    "from plotly import express as px\n",
    "px.line(loss_df,y=['train_loss','valid_loss'])"
   ]
  },
  {
   "cell_type": "code",
   "execution_count": 164,
   "id": "2f2b9d00-0197-4bcc-be96-83e62d9c96af",
   "metadata": {},
   "outputs": [
    {
     "data": {
      "text/plain": [
       "<All keys matched successfully>"
      ]
     },
     "execution_count": 164,
     "metadata": {},
     "output_type": "execute_result"
    }
   ],
   "source": [
    "generator.load_state_dict(torch.load('GenFB_BART_large_chkpts_4/best_model_chkpt.pth.tar')['model_state'])"
   ]
  },
  {
   "cell_type": "code",
   "execution_count": 165,
   "id": "1df3a035-e5a3-49e4-bbf4-6a0699945e3c",
   "metadata": {},
   "outputs": [
    {
     "name": "stdout",
     "output_type": "stream",
     "text": [
      "Question:What are my options if I can not support myself on a WHM visa? Answer: Frequently Asked Questions COVID-19 Pandemic - Australian Government Endorsed Event (AGEE) stream of the Temporary Activity (subclass 408) visa Frequently Asked Questions When can I apply for the COVID-19 Pandemic event visa? You should only apply for this visa is you are unable to depart Australia, your temporary visa expires in less than 28 days (or did not expire more than 28 days ago) and you have no other visa options available to you.\n",
      "This only talks about Visa application, it fails to talk about the topic\n",
      "</s><s>Summary: This answer is irrelevant to the question. This answer does not provide any information</s>\n",
      "--------------------------------------------------------\n",
      "Question:I was a working Holiday Maker but lost my job; what should I do? Answer: Frequently Asked Questions COVID-19 Pandemic - Australian Government Endorsed Event (AGEE) stream of the Temporary Activity (subclass 408) visa Frequently Asked Questions When can I apply for the COVID-19 Pandemic event visa? You should only apply for this visa is you are unable to depart Australia, your temporary visa expires in less than 28 days (or did not expire more than 28 days ago) and you have no other visa options available to you.\n",
      "This talks about Visa expiration and does not answer our question on what should be done.\n",
      "</s><s>Summary: This answer is irrelevant to the question. The question is asking for information on</s>\n",
      "--------------------------------------------------------\n",
      "Question:Is it practical to expect children to practice social distancing in childcare settings? Answer: Physical distancing for coronavirus (COVID-19) In schools If your child is sick, they must not go to school or childcare. You must keep them at home and away from others. To reduce the spread of viruses or germs in schools students and staff should continue to practise good hygiene. The Australian Health Protection Principal Committee (AHPPC) has issued updated advice on reducing the potential risk of COVID-19 transmission in schools. The AHPPC also issued a statement on risk management for re-opening boarding schools and school-based residential colleges. For more information on school operations, visit the Department of Education, Skills and Employment website.\n",
      "This answer is more about kids are sick and not the initial question\n",
      "</s><s>Summary: This does not answer the question. The question is asking about social distancing</s>\n",
      "--------------------------------------------------------\n",
      "Question:Do I have to continue making gym membership payments if my gym has closed due to the coronavirus outbreak? Answer: COVID-19 (coronavirus) information for consumers Gym memberships Can my gym charge me a membership ‘freeze’ or ‘holding’ fee for the period they are closed?  Membership ‘freeze’ or ‘holding’ fees may be charged by gyms when customers elect to pause their membership, if this is permitted by the terms and conditions. Given many memberships are being paused due to the government restrictions preventing gyms from operating, rather than customers requesting a pause, the ACCC expects that gyms will not charge membership ‘freeze’ or ‘holding’ fees. The ACCC also expects that gyms will refund any such holding fees incorrectly charged since the government restrictions came into effect. \n",
      "This is a good answer.  It gives examples of what a gym might do with fees if they are forced to close.\n",
      "</s><s>Summary: This is a direct answer to the question. This answer provides information on whether</s>\n",
      "--------------------------------------------------------\n",
      "Question:Can I keep on working while waiting to see if the application for my next WHM visa is accepted or not? Answer: Frequently Asked Questions Temporary visa measures supporting the agriculture sector Employers Due to the COVID-19 border restrictions, seasonal workers and pacific labour scheme participants are unable to travel to Australia at present. What other options are available to access workers to address labour needs? In response to the current COVID-19 pandemic, the Australian Government has announced temporary measures to assist temporary visa holders currently in Australia, including Seasonal Worker Programme and Pacific Labour Scheme participants, who are unable to currently return to their home country, to extend their stay in Australia, and enable flexibility in changing approved employers where required. Under these temporary measures, current approved employers may wish to employ Seasonal Worker Programme or Pacific Labour Scheme participants who have finished employment with their current approved employer, but who are unable to return to their home country. Approved employers, like any employer, may also wish to employ Temporary Activity (subclass 408) Australian Government Endorsed Event (AGEE) stream visa holders  This visa will have a nil visa application charge (VAC) for the COVID-19 pandemic event.  Employer sponsorship arrangements similar to the Seasonal Worker Programme will also apply to the subclass 408 visa.  These temporary measures are not intended to prevent the recruitment of Australians to undertake this work. Before seeking access to seasonal workers under the Seasonal Worker Programme,\n",
      "This answer explain how employers can help their employees as much as possible\n",
      "</s><s>Summary: This is a direct answer to the question. This answer provides information on temporary</s>\n",
      "--------------------------------------------------------\n",
      "Question:Can I continue to work while I am waiting for a decision for my application for my WHM visa? Answer: Frequently Asked Questions COVID-19 Pandemic - Australian Government Endorsed Event (AGEE) stream of the Temporary Activity (subclass 408) visa Frequently Asked Questions I am overseas. Can I be granted a COVID-19 Pandemic event visa? The COVID-19 Pandemic event visa can only be granted to people in Australia.\n",
      "It does not state if the person can continue to work while waiting for the visa\n",
      "</s><s>Summary: This answer is irrelevant to the question. This answer does not provide any information</s>\n",
      "--------------------------------------------------------\n",
      "Question:Can I get a refund for the tickets I bought because I no longer want to attend an event for COVID-19 concerns? Answer: COVID-19 (coronavirus) information for consumers Event cancellations I bought tickets for an event but no longer wish to attend due to concerns about COVID-19. Am I entitled to a refund?  If you no longer wish to attend an event due to concerns about COVID-19, this may be treated as a 'change of mind'. You should contact the event organiser to see if you are entitled to a remedy such as full or partial refund, credit note or voucher. If you have a health condition that means you are at higher risk, you should contact the event organiser to see if they will offer you a refund or a voucher for a later date. Given the exceptional circumstances, the ACCC encourages all businesses to treat consumers fairly, including by offering refunds as a goodwill gesture where appropriate. \n",
      "This gives an exact answer to the question and gives suggestions on what to be done.\n",
      "</s><s>Summary: This does not answer the question. The question is asking for information on refunds</s>\n",
      "--------------------------------------------------------\n",
      "Question:Where and how will the Economic Support Payment be paid? Answer: Coronavirus (COVID-19) information and support Frequently Asked Questions Does the Economic Support Payment go into my Income Management account? If you are in receipt of an eligible income support payment and you are an Income Management participant, the full $750 will be placed into your Income Management account. This is the same for other lump-sum payments. This will apply for both rounds of payments.\n",
      "This answer could give more information or resources for how the Economic Support Payment will be paid.\n",
      "</s><s>Summary: This is a direct answer to the question. This answer provides information on how</s>\n",
      "--------------------------------------------------------\n",
      "Question:what ways can I apply for a temporal activity with a temporal visa Answer: Frequently Asked Questions New Zealand 444 Special Category Visa (SCV) What should I do if I am unable to support myself in Australia and am not eligible for one of the above payments? Under recently announced measures, New Zealand citizens and permanent residents can access up to $10,000 of their Australian superannuation tax-free in 2019-20 and a further $10,000 in 2020-21. If you are unable to support yourself, are not eligible for any of the above payments, and unable to find any employment, you should consider returning to New Zealand.\n",
      "There is not a lot of information here.  None of the information in the answer mentions a visa.\n",
      "</s><s>Summary: This answer is irrelevant to the question. The question is asking for information on</s>\n",
      "--------------------------------------------------------\n",
      "Question:If I am in Australia on temporary visa and have been offered a job, can I apply for the Australian Government Endorsed Event stream visa? Answer: Frequently Asked Questions COVID-19 Pandemic - Australian Government Endorsed Event (AGEE) stream of the Temporary Activity (subclass 408) visa Frequently Asked Questions I am on a bridging visa. Can I apply for the COVID-19 Pandemic event visa? Temporary visa holders, including bridging visa holders can apply for the COVID-19 Pandemic event visa if they meet all of the eligibility criteria. Bridging visa holders who have a s.48 bar and/or who have not held a substantive temporary visa in the 28 days prior to application will not be able to apply.\n",
      "This only talks about Covid 19 pandemic event visa.\n",
      "</s><s>Summary: This answer is irrelevant to the question. The question is asking for information on</s>\n",
      "--------------------------------------------------------\n",
      "Question:Can children who were full fee paying before still attend childcare? Answer: Early Childhood Education and Care COVID-19 Frequently Asked Questions Early Childhood Education and Care Relief Package–information for providers and services How will the Early Childhood Education and Care Relief Package payments affect families on Additional Child Care Subsidy? The Early Childhood Education and Care Relief Package payments will be made instead of the usual Child Care Subsidy (CCS) and Additional Child Care Subsidy (ACCS) payments. If the family’s current ACCS determination continues past the end of the Early Childhood Education and Care Relief Package payment period, they will return to their ACCS entitlement. This will be the case for most families receiving ACCS (grandparent). To ensure that ACCS (child wellbeing) continues to flow when the system returns to normal, if a family’s ACCS (child wellbeing) determination expires during the period, services will need to apply for a new determination. We encourage providers to submit determinations prior to the resumption of the regular system to avoid any gaps in ACCS (child wellbeing). If a family’s CCS cancels during the payment period they will need to reapply for CCS (and be assessed as eligible) for a service to receive ACCS (child wellbeing) payments when regular payments resume. If a family has submitted an application for ACCS (temporary financial hardship) their eligibility will be assessed and payment made up to\n",
      "This answer covers and the question and give some basic guidance on the question\n",
      "</s><s>Summary: This is a direct answer to the question. This answer provides information on how</s>\n",
      "--------------------------------------------------------\n"
     ]
    }
   ],
   "source": [
    "i = 0\n",
    "for b in test_DL:\n",
    "    out = generator.generate(inputs=b['input'].to(device),min_length=500)#, do_sample=True,decoder_start_token_id=tokenizer.eos_token_id)\n",
    "    print(tokenizer.decode(b['input'][0],skip_special_tokens=True))\n",
    "    print(tokenizer.decode(b['labels'][b['labels'].ne(-100)],skip_special_tokens=True))\n",
    "    print(tokenizer.decode(out[0]))\n",
    "    print(\"--------------------------------------------------------\")\n",
    "    i+=1\n",
    "    if i>10:\n",
    "        break"
   ]
  },
  {
   "cell_type": "code",
   "execution_count": 153,
   "id": "96357d85-64e1-4d7e-8eab-ee36d405bbf4",
   "metadata": {},
   "outputs": [
    {
     "name": "stdout",
     "output_type": "stream",
     "text": [
      "torch.Size([1, 20]) torch.Size([1, 300]) 12 tensor([[0.0931, 0.0044, 0.0084,  ..., 0.0000, 0.0000, 0.0000],\n",
      "        [0.0881, 0.0077, 0.0084,  ..., 0.0000, 0.0000, 0.0000],\n",
      "        [0.1037, 0.0198, 0.0231,  ..., 0.0000, 0.0000, 0.0000],\n",
      "        ...,\n",
      "        [0.1189, 0.0030, 0.0038,  ..., 0.0000, 0.0000, 0.0000],\n",
      "        [0.2431, 0.0031, 0.0040,  ..., 0.0000, 0.0000, 0.0000],\n",
      "        [0.0988, 0.0103, 0.0136,  ..., 0.0000, 0.0000, 0.0000]],\n",
      "       device='cuda:1') torch.Size([1, 16, 300, 300])\n",
      "--------------------------------------------------------\n",
      "torch.Size([1, 20]) torch.Size([1, 300]) 12 tensor([[0.0917, 0.0046, 0.0102,  ..., 0.0000, 0.0000, 0.0000],\n",
      "        [0.0872, 0.0081, 0.0105,  ..., 0.0000, 0.0000, 0.0000],\n",
      "        [0.1023, 0.0198, 0.0260,  ..., 0.0000, 0.0000, 0.0000],\n",
      "        ...,\n",
      "        [0.1116, 0.0032, 0.0030,  ..., 0.0000, 0.0000, 0.0000],\n",
      "        [0.1102, 0.0035, 0.0045,  ..., 0.0000, 0.0000, 0.0000],\n",
      "        [0.0960, 0.0105, 0.0135,  ..., 0.0000, 0.0000, 0.0000]],\n",
      "       device='cuda:1') torch.Size([1, 16, 300, 300])\n",
      "--------------------------------------------------------\n"
     ]
    }
   ],
   "source": [
    "i = 0\n",
    "\n",
    "generator.eval()\n",
    "\n",
    "x,y,mat = None,None,None\n",
    "\n",
    "with torch.no_grad():\n",
    "    for b in test_DL:\n",
    "        gen = generator.generate(inputs=b['input'].to(device),min_length=500)\n",
    "        out = generator(input_ids=b['input'].to(device),attention_mask=b['input_attn'].to(device),decoder_input_ids=gen,output_attentions=True)#, do_sample=True,decoder_start_token_id=tokenizer.eos_token_id)\n",
    "        ca = out.cross_attentions\n",
    "        ea = out.encoder_attentions\n",
    "        print(gen.shape, b['input'].shape, len(ca), ca[0][0,:,:,:].mean(dim=0),ea[0].shape)\n",
    "        x = tokenizer.tokenize(tokenizer.decode(gen[0]))\n",
    "        y = tokenizer.tokenize(tokenizer.decode(b['input'][0]))\n",
    "        mat = ca[-1][0,:,:,:].mean(dim=0).cpu().numpy()\n",
    "        print(\"--------------------------------------------------------\")\n",
    "        i+=1\n",
    "        if i>1:\n",
    "            break"
   ]
  },
  {
   "cell_type": "code",
   "execution_count": 113,
   "id": "acd3d131-a06b-4810-8b40-5cc40bfaadc6",
   "metadata": {
    "collapsed": true,
    "jupyter": {
     "outputs_hidden": true
    },
    "tags": []
   },
   "outputs": [
    {
     "data": {
      "text/plain": [
       "(['</s>',\n",
       "  '<s>',\n",
       "  'This',\n",
       "  'Ġanswer',\n",
       "  'Ġis',\n",
       "  'Ġirrelevant',\n",
       "  'Ġto',\n",
       "  'Ġthe',\n",
       "  'Ġquestion',\n",
       "  '.',\n",
       "  'ĠThis',\n",
       "  'Ġanswer',\n",
       "  'Ġis',\n",
       "  'Ġabout',\n",
       "  'Ġapplying',\n",
       "  'Ġfor',\n",
       "  'Ġa',\n",
       "  'Ġvisa',\n",
       "  'Ġand',\n",
       "  '</s>'],\n",
       " ['<s>',\n",
       "  'Question',\n",
       "  ':',\n",
       "  'I',\n",
       "  'Ġwas',\n",
       "  'Ġa',\n",
       "  'Ġworking',\n",
       "  'ĠHoliday',\n",
       "  'ĠMaker',\n",
       "  'Ġbut',\n",
       "  'Ġlost',\n",
       "  'Ġmy',\n",
       "  'Ġjob',\n",
       "  ';',\n",
       "  'Ġwhat',\n",
       "  'Ġshould',\n",
       "  'ĠI',\n",
       "  'Ġdo',\n",
       "  '?',\n",
       "  'ĠAnswer',\n",
       "  ':',\n",
       "  'ĠFrequ',\n",
       "  'ently',\n",
       "  'ĠAsked',\n",
       "  'ĠQuestions',\n",
       "  'ĠCO',\n",
       "  'VID',\n",
       "  '-',\n",
       "  '19',\n",
       "  'ĠPand',\n",
       "  'emic',\n",
       "  'Ġ-',\n",
       "  'ĠAustralian',\n",
       "  'ĠGovernment',\n",
       "  'ĠEnd',\n",
       "  'ors',\n",
       "  'ed',\n",
       "  'ĠEvent',\n",
       "  'Ġ(',\n",
       "  'AG',\n",
       "  'EE',\n",
       "  ')',\n",
       "  'Ġstream',\n",
       "  'Ġof',\n",
       "  'Ġthe',\n",
       "  'ĠTemporary',\n",
       "  'ĠActivity',\n",
       "  'Ġ(',\n",
       "  'sub',\n",
       "  'class',\n",
       "  'Ġ408',\n",
       "  ')',\n",
       "  'Ġvisa',\n",
       "  'ĠFrequ',\n",
       "  'ently',\n",
       "  'ĠAsked',\n",
       "  'ĠQuestions',\n",
       "  'ĠWhen',\n",
       "  'Ġcan',\n",
       "  'ĠI',\n",
       "  'Ġapply',\n",
       "  'Ġfor',\n",
       "  'Ġthe',\n",
       "  'ĠCO',\n",
       "  'VID',\n",
       "  '-',\n",
       "  '19',\n",
       "  'ĠPand',\n",
       "  'emic',\n",
       "  'Ġevent',\n",
       "  'Ġvisa',\n",
       "  '?',\n",
       "  'ĠYou',\n",
       "  'Ġshould',\n",
       "  'Ġonly',\n",
       "  'Ġapply',\n",
       "  'Ġfor',\n",
       "  'Ġthis',\n",
       "  'Ġvisa',\n",
       "  'Ġis',\n",
       "  'Ġyou',\n",
       "  'Ġare',\n",
       "  'Ġunable',\n",
       "  'Ġto',\n",
       "  'Ġdepart',\n",
       "  'ĠAustralia',\n",
       "  ',',\n",
       "  'Ġyour',\n",
       "  'Ġtemporary',\n",
       "  'Ġvisa',\n",
       "  'Ġexpires',\n",
       "  'Ġin',\n",
       "  'Ġless',\n",
       "  'Ġthan',\n",
       "  'Ġ28',\n",
       "  'Ġdays',\n",
       "  'Ġ(',\n",
       "  'or',\n",
       "  'Ġdid',\n",
       "  'Ġnot',\n",
       "  'Ġexpire',\n",
       "  'Ġmore',\n",
       "  'Ġthan',\n",
       "  'Ġ28',\n",
       "  'Ġdays',\n",
       "  'Ġago',\n",
       "  ')',\n",
       "  'Ġand',\n",
       "  'Ġyou',\n",
       "  'Ġhave',\n",
       "  'Ġno',\n",
       "  'Ġother',\n",
       "  'Ġvisa',\n",
       "  'Ġoptions',\n",
       "  'Ġavailable',\n",
       "  'Ġto',\n",
       "  'Ġyou',\n",
       "  '.',\n",
       "  '</s>',\n",
       "  '<pad>',\n",
       "  '<pad>',\n",
       "  '<pad>',\n",
       "  '<pad>',\n",
       "  '<pad>',\n",
       "  '<pad>',\n",
       "  '<pad>',\n",
       "  '<pad>',\n",
       "  '<pad>',\n",
       "  '<pad>',\n",
       "  '<pad>',\n",
       "  '<pad>',\n",
       "  '<pad>',\n",
       "  '<pad>',\n",
       "  '<pad>',\n",
       "  '<pad>',\n",
       "  '<pad>',\n",
       "  '<pad>',\n",
       "  '<pad>',\n",
       "  '<pad>',\n",
       "  '<pad>',\n",
       "  '<pad>',\n",
       "  '<pad>',\n",
       "  '<pad>',\n",
       "  '<pad>',\n",
       "  '<pad>',\n",
       "  '<pad>',\n",
       "  '<pad>',\n",
       "  '<pad>',\n",
       "  '<pad>',\n",
       "  '<pad>',\n",
       "  '<pad>',\n",
       "  '<pad>',\n",
       "  '<pad>',\n",
       "  '<pad>',\n",
       "  '<pad>',\n",
       "  '<pad>',\n",
       "  '<pad>',\n",
       "  '<pad>',\n",
       "  '<pad>',\n",
       "  '<pad>',\n",
       "  '<pad>',\n",
       "  '<pad>',\n",
       "  '<pad>',\n",
       "  '<pad>',\n",
       "  '<pad>',\n",
       "  '<pad>',\n",
       "  '<pad>',\n",
       "  '<pad>',\n",
       "  '<pad>',\n",
       "  '<pad>',\n",
       "  '<pad>',\n",
       "  '<pad>',\n",
       "  '<pad>',\n",
       "  '<pad>',\n",
       "  '<pad>',\n",
       "  '<pad>',\n",
       "  '<pad>',\n",
       "  '<pad>',\n",
       "  '<pad>',\n",
       "  '<pad>',\n",
       "  '<pad>',\n",
       "  '<pad>',\n",
       "  '<pad>',\n",
       "  '<pad>',\n",
       "  '<pad>',\n",
       "  '<pad>',\n",
       "  '<pad>',\n",
       "  '<pad>',\n",
       "  '<pad>',\n",
       "  '<pad>',\n",
       "  '<pad>',\n",
       "  '<pad>',\n",
       "  '<pad>',\n",
       "  '<pad>',\n",
       "  '<pad>',\n",
       "  '<pad>',\n",
       "  '<pad>',\n",
       "  '<pad>',\n",
       "  '<pad>',\n",
       "  '<pad>',\n",
       "  '<pad>',\n",
       "  '<pad>',\n",
       "  '<pad>',\n",
       "  '<pad>',\n",
       "  '<pad>',\n",
       "  '<pad>',\n",
       "  '<pad>',\n",
       "  '<pad>',\n",
       "  '<pad>',\n",
       "  '<pad>',\n",
       "  '<pad>',\n",
       "  '<pad>',\n",
       "  '<pad>',\n",
       "  '<pad>',\n",
       "  '<pad>',\n",
       "  '<pad>',\n",
       "  '<pad>',\n",
       "  '<pad>',\n",
       "  '<pad>',\n",
       "  '<pad>',\n",
       "  '<pad>',\n",
       "  '<pad>',\n",
       "  '<pad>',\n",
       "  '<pad>',\n",
       "  '<pad>',\n",
       "  '<pad>',\n",
       "  '<pad>',\n",
       "  '<pad>',\n",
       "  '<pad>',\n",
       "  '<pad>',\n",
       "  '<pad>',\n",
       "  '<pad>',\n",
       "  '<pad>',\n",
       "  '<pad>',\n",
       "  '<pad>',\n",
       "  '<pad>',\n",
       "  '<pad>',\n",
       "  '<pad>',\n",
       "  '<pad>',\n",
       "  '<pad>',\n",
       "  '<pad>',\n",
       "  '<pad>',\n",
       "  '<pad>',\n",
       "  '<pad>',\n",
       "  '<pad>',\n",
       "  '<pad>',\n",
       "  '<pad>',\n",
       "  '<pad>',\n",
       "  '<pad>',\n",
       "  '<pad>',\n",
       "  '<pad>',\n",
       "  '<pad>',\n",
       "  '<pad>',\n",
       "  '<pad>',\n",
       "  '<pad>',\n",
       "  '<pad>',\n",
       "  '<pad>',\n",
       "  '<pad>',\n",
       "  '<pad>',\n",
       "  '<pad>',\n",
       "  '<pad>',\n",
       "  '<pad>',\n",
       "  '<pad>',\n",
       "  '<pad>',\n",
       "  '<pad>',\n",
       "  '<pad>',\n",
       "  '<pad>',\n",
       "  '<pad>',\n",
       "  '<pad>',\n",
       "  '<pad>',\n",
       "  '<pad>',\n",
       "  '<pad>',\n",
       "  '<pad>',\n",
       "  '<pad>',\n",
       "  '<pad>',\n",
       "  '<pad>',\n",
       "  '<pad>',\n",
       "  '<pad>',\n",
       "  '<pad>',\n",
       "  '<pad>',\n",
       "  '<pad>',\n",
       "  '<pad>',\n",
       "  '<pad>',\n",
       "  '<pad>',\n",
       "  '<pad>',\n",
       "  '<pad>',\n",
       "  '<pad>',\n",
       "  '<pad>',\n",
       "  '<pad>',\n",
       "  '<pad>',\n",
       "  '<pad>',\n",
       "  '<pad>',\n",
       "  '<pad>',\n",
       "  '<pad>',\n",
       "  '<pad>',\n",
       "  '<pad>',\n",
       "  '<pad>',\n",
       "  '<pad>',\n",
       "  '<pad>',\n",
       "  '<pad>'],\n",
       " array([[4.1904010e-02, 1.8739723e-02, 4.9187080e-03, ..., 2.2176576e-04,\n",
       "         3.0963193e-04, 3.5833844e-04],\n",
       "        [4.1903988e-02, 1.8739719e-02, 4.9187080e-03, ..., 2.2176577e-04,\n",
       "         3.0963187e-04, 3.5833838e-04],\n",
       "        [2.6367104e-02, 4.0850486e-03, 2.3418944e-03, ..., 3.0077825e-05,\n",
       "         4.4562123e-05, 7.0793532e-05],\n",
       "        ...,\n",
       "        [4.1304190e-02, 1.7365648e-03, 4.9365859e-04, ..., 2.7320188e-05,\n",
       "         3.8539492e-05, 9.5291980e-05],\n",
       "        [3.2235425e-02, 6.3516609e-03, 7.8379072e-04, ..., 1.7239805e-05,\n",
       "         2.4638677e-05, 5.8528742e-05],\n",
       "        [4.5191702e-02, 4.8410459e-03, 1.2826265e-03, ..., 3.4849876e-05,\n",
       "         4.1032374e-05, 5.3075073e-05]], dtype=float32))"
      ]
     },
     "execution_count": 113,
     "metadata": {},
     "output_type": "execute_result"
    }
   ],
   "source": [
    "x,y,mat"
   ]
  },
  {
   "cell_type": "code",
   "execution_count": 122,
   "id": "3cb4bb43-9398-4648-bece-105cff37fbf7",
   "metadata": {},
   "outputs": [
    {
     "data": {
      "text/plain": [
       "['ĠAnswer',\n",
       " ':',\n",
       " 'ĠFrequ',\n",
       " 'ently',\n",
       " 'ĠAsked',\n",
       " 'ĠQuestions',\n",
       " 'ĠCO',\n",
       " 'VID',\n",
       " '-',\n",
       " '19',\n",
       " 'ĠPand',\n",
       " 'emic',\n",
       " 'Ġ-',\n",
       " 'ĠAustralian',\n",
       " 'ĠGovernment',\n",
       " 'ĠEnd',\n",
       " 'ors',\n",
       " 'ed',\n",
       " 'ĠEvent',\n",
       " 'Ġ(',\n",
       " 'AG',\n",
       " 'EE']"
      ]
     },
     "execution_count": 122,
     "metadata": {},
     "output_type": "execute_result"
    }
   ],
   "source": [
    "y[19:41]"
   ]
  },
  {
   "cell_type": "code",
   "execution_count": 151,
   "id": "aa36e6b3-ae9d-4c50-aec8-6bc9b7175590",
   "metadata": {},
   "outputs": [
    {
     "data": {
      "application/vnd.plotly.v1+json": {
       "config": {
        "plotlyServerURL": "https://plot.ly"
       },
       "data": [
        {
         "coloraxis": "coloraxis",
         "hovertemplate": "x: %{x}<br>y: %{y}<br>color: %{z}<extra></extra>",
         "name": "0",
         "type": "heatmap",
         "x": [
          "</s>",
          "<s>",
          "This",
          "Ġanswer",
          "Ġis",
          "Ġirrelevant",
          "Ġto",
          "Ġthe",
          "Ġquestion",
          ".",
          "ĠThe",
          "Ġquestion",
          "Ġis",
          "Ġasking",
          "Ġfor",
          "Ġinformation",
          "Ġon",
          "Ġworking",
          "Ġholiday",
          "</s>"
         ],
         "xaxis": "x",
         "y": [
          "<s>",
          "Ġworking",
          "ĠHoliday",
          "ĠMaker",
          "."
         ],
         "yaxis": "y",
         "z": [
          [
           0.0636376142501831,
           0.0636376217007637,
           0.025647899135947227,
           0.024467680603265762,
           0.01631365530192852,
           0.06784416735172272,
           0.06613685935735703,
           0.04129403084516525,
           0.051204439252614975,
           0.10858406871557236,
           0.03324437886476517,
           0.025009647011756897,
           0.017815137282013893,
           0.05410737544298172,
           0.026361558586359024,
           0.0353424996137619,
           0.029265977442264557,
           0.05619308352470398,
           0.033072590827941895,
           0.06320814788341522
          ],
          [
           0.014199855737388134,
           0.014199852012097836,
           0.0034324503503739834,
           0.0013279553968459368,
           0.005052637774497271,
           0.004011854063719511,
           0.04196522757411003,
           0.024315692484378815,
           0.004762724041938782,
           0.012714621610939503,
           0.0143200708553195,
           0.0013195944484323263,
           0.006012731231749058,
           0.025806915014982224,
           0.05400174856185913,
           0.01075249258428812,
           0.10567161440849304,
           0.037721261382102966,
           0.00420568510890007,
           0.01886899583041668
          ],
          [
           0.03523531183600426,
           0.03523528575897217,
           0.007691400125622749,
           0.001434729783795774,
           0.003098981222137809,
           0.011545277200639248,
           0.1333528459072113,
           0.09709987044334412,
           0.008027913980185986,
           0.053733713924884796,
           0.048775218427181244,
           0.001761206891387701,
           0.004346686881035566,
           0.07034437358379364,
           0.09218902885913849,
           0.01719338446855545,
           0.14113250374794006,
           0.196463942527771,
           0.040717922151088715,
           0.05629739165306091
          ],
          [
           0.006577127613127232,
           0.006577126681804657,
           0.0021182456985116005,
           0.0006600961787626147,
           0.0007637549424543977,
           0.0027941882144659758,
           0.023357771337032318,
           0.015272082760930061,
           0.004363453481346369,
           0.003961093723773956,
           0.0061447033658623695,
           0.0008109122281894088,
           0.0011203112080693245,
           0.005036640912294388,
           0.008893216028809547,
           0.0038359127938747406,
           0.017806075513362885,
           0.09024441242218018,
           0.27697619795799255,
           0.06153688579797745
          ],
          [
           0.2786417603492737,
           0.2786417603492737,
           0.6286243200302124,
           0.7852259874343872,
           0.7792764902114868,
           0.6406737565994263,
           0.3632633686065674,
           0.49186766147613525,
           0.719154953956604,
           0.5036716461181641,
           0.5507891178131104,
           0.8588692545890808,
           0.8420902490615845,
           0.5039999485015869,
           0.4185931384563446,
           0.7161073684692383,
           0.2747970521450043,
           0.37928882241249084,
           0.5622168779373169,
           0.6047160625457764
          ]
         ]
        }
       ],
       "layout": {
        "autosize": true,
        "coloraxis": {
         "colorscale": [
          [
           0,
           "#0d0887"
          ],
          [
           0.1111111111111111,
           "#46039f"
          ],
          [
           0.2222222222222222,
           "#7201a8"
          ],
          [
           0.3333333333333333,
           "#9c179e"
          ],
          [
           0.4444444444444444,
           "#bd3786"
          ],
          [
           0.5555555555555556,
           "#d8576b"
          ],
          [
           0.6666666666666666,
           "#ed7953"
          ],
          [
           0.7777777777777778,
           "#fb9f3a"
          ],
          [
           0.8888888888888888,
           "#fdca26"
          ],
          [
           1,
           "#f0f921"
          ]
         ]
        },
        "margin": {
         "t": 60
        },
        "template": {
         "data": {
          "bar": [
           {
            "error_x": {
             "color": "#2a3f5f"
            },
            "error_y": {
             "color": "#2a3f5f"
            },
            "marker": {
             "line": {
              "color": "#E5ECF6",
              "width": 0.5
             },
             "pattern": {
              "fillmode": "overlay",
              "size": 10,
              "solidity": 0.2
             }
            },
            "type": "bar"
           }
          ],
          "barpolar": [
           {
            "marker": {
             "line": {
              "color": "#E5ECF6",
              "width": 0.5
             },
             "pattern": {
              "fillmode": "overlay",
              "size": 10,
              "solidity": 0.2
             }
            },
            "type": "barpolar"
           }
          ],
          "carpet": [
           {
            "aaxis": {
             "endlinecolor": "#2a3f5f",
             "gridcolor": "white",
             "linecolor": "white",
             "minorgridcolor": "white",
             "startlinecolor": "#2a3f5f"
            },
            "baxis": {
             "endlinecolor": "#2a3f5f",
             "gridcolor": "white",
             "linecolor": "white",
             "minorgridcolor": "white",
             "startlinecolor": "#2a3f5f"
            },
            "type": "carpet"
           }
          ],
          "choropleth": [
           {
            "colorbar": {
             "outlinewidth": 0,
             "ticks": ""
            },
            "type": "choropleth"
           }
          ],
          "contour": [
           {
            "colorbar": {
             "outlinewidth": 0,
             "ticks": ""
            },
            "colorscale": [
             [
              0,
              "#0d0887"
             ],
             [
              0.1111111111111111,
              "#46039f"
             ],
             [
              0.2222222222222222,
              "#7201a8"
             ],
             [
              0.3333333333333333,
              "#9c179e"
             ],
             [
              0.4444444444444444,
              "#bd3786"
             ],
             [
              0.5555555555555556,
              "#d8576b"
             ],
             [
              0.6666666666666666,
              "#ed7953"
             ],
             [
              0.7777777777777778,
              "#fb9f3a"
             ],
             [
              0.8888888888888888,
              "#fdca26"
             ],
             [
              1,
              "#f0f921"
             ]
            ],
            "type": "contour"
           }
          ],
          "contourcarpet": [
           {
            "colorbar": {
             "outlinewidth": 0,
             "ticks": ""
            },
            "type": "contourcarpet"
           }
          ],
          "heatmap": [
           {
            "colorbar": {
             "outlinewidth": 0,
             "ticks": ""
            },
            "colorscale": [
             [
              0,
              "#0d0887"
             ],
             [
              0.1111111111111111,
              "#46039f"
             ],
             [
              0.2222222222222222,
              "#7201a8"
             ],
             [
              0.3333333333333333,
              "#9c179e"
             ],
             [
              0.4444444444444444,
              "#bd3786"
             ],
             [
              0.5555555555555556,
              "#d8576b"
             ],
             [
              0.6666666666666666,
              "#ed7953"
             ],
             [
              0.7777777777777778,
              "#fb9f3a"
             ],
             [
              0.8888888888888888,
              "#fdca26"
             ],
             [
              1,
              "#f0f921"
             ]
            ],
            "type": "heatmap"
           }
          ],
          "heatmapgl": [
           {
            "colorbar": {
             "outlinewidth": 0,
             "ticks": ""
            },
            "colorscale": [
             [
              0,
              "#0d0887"
             ],
             [
              0.1111111111111111,
              "#46039f"
             ],
             [
              0.2222222222222222,
              "#7201a8"
             ],
             [
              0.3333333333333333,
              "#9c179e"
             ],
             [
              0.4444444444444444,
              "#bd3786"
             ],
             [
              0.5555555555555556,
              "#d8576b"
             ],
             [
              0.6666666666666666,
              "#ed7953"
             ],
             [
              0.7777777777777778,
              "#fb9f3a"
             ],
             [
              0.8888888888888888,
              "#fdca26"
             ],
             [
              1,
              "#f0f921"
             ]
            ],
            "type": "heatmapgl"
           }
          ],
          "histogram": [
           {
            "marker": {
             "pattern": {
              "fillmode": "overlay",
              "size": 10,
              "solidity": 0.2
             }
            },
            "type": "histogram"
           }
          ],
          "histogram2d": [
           {
            "colorbar": {
             "outlinewidth": 0,
             "ticks": ""
            },
            "colorscale": [
             [
              0,
              "#0d0887"
             ],
             [
              0.1111111111111111,
              "#46039f"
             ],
             [
              0.2222222222222222,
              "#7201a8"
             ],
             [
              0.3333333333333333,
              "#9c179e"
             ],
             [
              0.4444444444444444,
              "#bd3786"
             ],
             [
              0.5555555555555556,
              "#d8576b"
             ],
             [
              0.6666666666666666,
              "#ed7953"
             ],
             [
              0.7777777777777778,
              "#fb9f3a"
             ],
             [
              0.8888888888888888,
              "#fdca26"
             ],
             [
              1,
              "#f0f921"
             ]
            ],
            "type": "histogram2d"
           }
          ],
          "histogram2dcontour": [
           {
            "colorbar": {
             "outlinewidth": 0,
             "ticks": ""
            },
            "colorscale": [
             [
              0,
              "#0d0887"
             ],
             [
              0.1111111111111111,
              "#46039f"
             ],
             [
              0.2222222222222222,
              "#7201a8"
             ],
             [
              0.3333333333333333,
              "#9c179e"
             ],
             [
              0.4444444444444444,
              "#bd3786"
             ],
             [
              0.5555555555555556,
              "#d8576b"
             ],
             [
              0.6666666666666666,
              "#ed7953"
             ],
             [
              0.7777777777777778,
              "#fb9f3a"
             ],
             [
              0.8888888888888888,
              "#fdca26"
             ],
             [
              1,
              "#f0f921"
             ]
            ],
            "type": "histogram2dcontour"
           }
          ],
          "mesh3d": [
           {
            "colorbar": {
             "outlinewidth": 0,
             "ticks": ""
            },
            "type": "mesh3d"
           }
          ],
          "parcoords": [
           {
            "line": {
             "colorbar": {
              "outlinewidth": 0,
              "ticks": ""
             }
            },
            "type": "parcoords"
           }
          ],
          "pie": [
           {
            "automargin": true,
            "type": "pie"
           }
          ],
          "scatter": [
           {
            "fillpattern": {
             "fillmode": "overlay",
             "size": 10,
             "solidity": 0.2
            },
            "type": "scatter"
           }
          ],
          "scatter3d": [
           {
            "line": {
             "colorbar": {
              "outlinewidth": 0,
              "ticks": ""
             }
            },
            "marker": {
             "colorbar": {
              "outlinewidth": 0,
              "ticks": ""
             }
            },
            "type": "scatter3d"
           }
          ],
          "scattercarpet": [
           {
            "marker": {
             "colorbar": {
              "outlinewidth": 0,
              "ticks": ""
             }
            },
            "type": "scattercarpet"
           }
          ],
          "scattergeo": [
           {
            "marker": {
             "colorbar": {
              "outlinewidth": 0,
              "ticks": ""
             }
            },
            "type": "scattergeo"
           }
          ],
          "scattergl": [
           {
            "marker": {
             "colorbar": {
              "outlinewidth": 0,
              "ticks": ""
             }
            },
            "type": "scattergl"
           }
          ],
          "scattermapbox": [
           {
            "marker": {
             "colorbar": {
              "outlinewidth": 0,
              "ticks": ""
             }
            },
            "type": "scattermapbox"
           }
          ],
          "scatterpolar": [
           {
            "marker": {
             "colorbar": {
              "outlinewidth": 0,
              "ticks": ""
             }
            },
            "type": "scatterpolar"
           }
          ],
          "scatterpolargl": [
           {
            "marker": {
             "colorbar": {
              "outlinewidth": 0,
              "ticks": ""
             }
            },
            "type": "scatterpolargl"
           }
          ],
          "scatterternary": [
           {
            "marker": {
             "colorbar": {
              "outlinewidth": 0,
              "ticks": ""
             }
            },
            "type": "scatterternary"
           }
          ],
          "surface": [
           {
            "colorbar": {
             "outlinewidth": 0,
             "ticks": ""
            },
            "colorscale": [
             [
              0,
              "#0d0887"
             ],
             [
              0.1111111111111111,
              "#46039f"
             ],
             [
              0.2222222222222222,
              "#7201a8"
             ],
             [
              0.3333333333333333,
              "#9c179e"
             ],
             [
              0.4444444444444444,
              "#bd3786"
             ],
             [
              0.5555555555555556,
              "#d8576b"
             ],
             [
              0.6666666666666666,
              "#ed7953"
             ],
             [
              0.7777777777777778,
              "#fb9f3a"
             ],
             [
              0.8888888888888888,
              "#fdca26"
             ],
             [
              1,
              "#f0f921"
             ]
            ],
            "type": "surface"
           }
          ],
          "table": [
           {
            "cells": {
             "fill": {
              "color": "#EBF0F8"
             },
             "line": {
              "color": "white"
             }
            },
            "header": {
             "fill": {
              "color": "#C8D4E3"
             },
             "line": {
              "color": "white"
             }
            },
            "type": "table"
           }
          ]
         },
         "layout": {
          "annotationdefaults": {
           "arrowcolor": "#2a3f5f",
           "arrowhead": 0,
           "arrowwidth": 1
          },
          "autotypenumbers": "strict",
          "coloraxis": {
           "colorbar": {
            "outlinewidth": 0,
            "ticks": ""
           }
          },
          "colorscale": {
           "diverging": [
            [
             0,
             "#8e0152"
            ],
            [
             0.1,
             "#c51b7d"
            ],
            [
             0.2,
             "#de77ae"
            ],
            [
             0.3,
             "#f1b6da"
            ],
            [
             0.4,
             "#fde0ef"
            ],
            [
             0.5,
             "#f7f7f7"
            ],
            [
             0.6,
             "#e6f5d0"
            ],
            [
             0.7,
             "#b8e186"
            ],
            [
             0.8,
             "#7fbc41"
            ],
            [
             0.9,
             "#4d9221"
            ],
            [
             1,
             "#276419"
            ]
           ],
           "sequential": [
            [
             0,
             "#0d0887"
            ],
            [
             0.1111111111111111,
             "#46039f"
            ],
            [
             0.2222222222222222,
             "#7201a8"
            ],
            [
             0.3333333333333333,
             "#9c179e"
            ],
            [
             0.4444444444444444,
             "#bd3786"
            ],
            [
             0.5555555555555556,
             "#d8576b"
            ],
            [
             0.6666666666666666,
             "#ed7953"
            ],
            [
             0.7777777777777778,
             "#fb9f3a"
            ],
            [
             0.8888888888888888,
             "#fdca26"
            ],
            [
             1,
             "#f0f921"
            ]
           ],
           "sequentialminus": [
            [
             0,
             "#0d0887"
            ],
            [
             0.1111111111111111,
             "#46039f"
            ],
            [
             0.2222222222222222,
             "#7201a8"
            ],
            [
             0.3333333333333333,
             "#9c179e"
            ],
            [
             0.4444444444444444,
             "#bd3786"
            ],
            [
             0.5555555555555556,
             "#d8576b"
            ],
            [
             0.6666666666666666,
             "#ed7953"
            ],
            [
             0.7777777777777778,
             "#fb9f3a"
            ],
            [
             0.8888888888888888,
             "#fdca26"
            ],
            [
             1,
             "#f0f921"
            ]
           ]
          },
          "colorway": [
           "#636efa",
           "#EF553B",
           "#00cc96",
           "#ab63fa",
           "#FFA15A",
           "#19d3f3",
           "#FF6692",
           "#B6E880",
           "#FF97FF",
           "#FECB52"
          ],
          "font": {
           "color": "#2a3f5f"
          },
          "geo": {
           "bgcolor": "white",
           "lakecolor": "white",
           "landcolor": "#E5ECF6",
           "showlakes": true,
           "showland": true,
           "subunitcolor": "white"
          },
          "hoverlabel": {
           "align": "left"
          },
          "hovermode": "closest",
          "mapbox": {
           "style": "light"
          },
          "paper_bgcolor": "white",
          "plot_bgcolor": "#E5ECF6",
          "polar": {
           "angularaxis": {
            "gridcolor": "white",
            "linecolor": "white",
            "ticks": ""
           },
           "bgcolor": "#E5ECF6",
           "radialaxis": {
            "gridcolor": "white",
            "linecolor": "white",
            "ticks": ""
           }
          },
          "scene": {
           "xaxis": {
            "backgroundcolor": "#E5ECF6",
            "gridcolor": "white",
            "gridwidth": 2,
            "linecolor": "white",
            "showbackground": true,
            "ticks": "",
            "zerolinecolor": "white"
           },
           "yaxis": {
            "backgroundcolor": "#E5ECF6",
            "gridcolor": "white",
            "gridwidth": 2,
            "linecolor": "white",
            "showbackground": true,
            "ticks": "",
            "zerolinecolor": "white"
           },
           "zaxis": {
            "backgroundcolor": "#E5ECF6",
            "gridcolor": "white",
            "gridwidth": 2,
            "linecolor": "white",
            "showbackground": true,
            "ticks": "",
            "zerolinecolor": "white"
           }
          },
          "shapedefaults": {
           "line": {
            "color": "#2a3f5f"
           }
          },
          "ternary": {
           "aaxis": {
            "gridcolor": "white",
            "linecolor": "white",
            "ticks": ""
           },
           "baxis": {
            "gridcolor": "white",
            "linecolor": "white",
            "ticks": ""
           },
           "bgcolor": "#E5ECF6",
           "caxis": {
            "gridcolor": "white",
            "linecolor": "white",
            "ticks": ""
           }
          },
          "title": {
           "x": 0.05
          },
          "xaxis": {
           "automargin": true,
           "gridcolor": "white",
           "linecolor": "white",
           "ticks": "",
           "title": {
            "standoff": 15
           },
           "zerolinecolor": "white",
           "zerolinewidth": 2
          },
          "yaxis": {
           "automargin": true,
           "gridcolor": "white",
           "linecolor": "white",
           "ticks": "",
           "title": {
            "standoff": 15
           },
           "zerolinecolor": "white",
           "zerolinewidth": 2
          }
         }
        },
        "xaxis": {
         "anchor": "y",
         "autorange": true,
         "constrain": "domain",
         "domain": [
          0.12107396149949345,
          0.8789260385005065
         ],
         "range": [
          -0.5,
          16.5
         ],
         "scaleanchor": "y",
         "type": "category"
        },
        "yaxis": {
         "anchor": "x",
         "autorange": true,
         "constrain": "domain",
         "domain": [
          0,
          1
         ],
         "range": [
          4.5,
          -0.5
         ],
         "type": "category"
        }
       }
      },
      "image/png": "[encoded data removed]",
      "text/html": [
       "<div>                            <div id=\"7e43f833-b264-4fd9-a3a3-7a2654fce384\" class=\"plotly-graph-div\" style=\"height:525px; width:100%;\"></div>            <script type=\"text/javascript\">                require([\"plotly\"], function(Plotly) {                    window.PLOTLYENV=window.PLOTLYENV || {};                                    if (document.getElementById(\"7e43f833-b264-4fd9-a3a3-7a2654fce384\")) {                    Plotly.newPlot(                        \"7e43f833-b264-4fd9-a3a3-7a2654fce384\",                        [{\"coloraxis\":\"coloraxis\",\"name\":\"0\",\"x\":[\"</s>\",\"<s>\",\"This\",\"\\u0120answer\",\"\\u0120is\",\"\\u0120irrelevant\",\"\\u0120to\",\"\\u0120the\",\"\\u0120question\",\".\",\"\\u0120The\",\"\\u0120question\",\"\\u0120is\",\"\\u0120asking\",\"\\u0120for\",\"\\u0120information\",\"\\u0120on\",\"\\u0120working\",\"\\u0120holiday\",\"</s>\"],\"y\":[\"<s>\",\"\\u0120working\",\"\\u0120Holiday\",\"\\u0120Maker\",\".\"],\"z\":[[0.0636376142501831,0.0636376217007637,0.025647899135947227,0.024467680603265762,0.01631365530192852,0.06784416735172272,0.06613685935735703,0.04129403084516525,0.051204439252614975,0.10858406871557236,0.03324437886476517,0.025009647011756897,0.017815137282013893,0.05410737544298172,0.026361558586359024,0.0353424996137619,0.029265977442264557,0.05619308352470398,0.033072590827941895,0.06320814788341522],[0.014199855737388134,0.014199852012097836,0.0034324503503739834,0.0013279553968459368,0.005052637774497271,0.004011854063719511,0.04196522757411003,0.024315692484378815,0.004762724041938782,0.012714621610939503,0.0143200708553195,0.0013195944484323263,0.006012731231749058,0.025806915014982224,0.05400174856185913,0.01075249258428812,0.10567161440849304,0.037721261382102966,0.00420568510890007,0.01886899583041668],[0.03523531183600426,0.03523528575897217,0.007691400125622749,0.001434729783795774,0.003098981222137809,0.011545277200639248,0.1333528459072113,0.09709987044334412,0.008027913980185986,0.053733713924884796,0.048775218427181244,0.001761206891387701,0.004346686881035566,0.07034437358379364,0.09218902885913849,0.01719338446855545,0.14113250374794006,0.196463942527771,0.040717922151088715,0.05629739165306091],[0.006577127613127232,0.006577126681804657,0.0021182456985116005,0.0006600961787626147,0.0007637549424543977,0.0027941882144659758,0.023357771337032318,0.015272082760930061,0.004363453481346369,0.003961093723773956,0.0061447033658623695,0.0008109122281894088,0.0011203112080693245,0.005036640912294388,0.008893216028809547,0.0038359127938747406,0.017806075513362885,0.09024441242218018,0.27697619795799255,0.06153688579797745],[0.2786417603492737,0.2786417603492737,0.6286243200302124,0.7852259874343872,0.7792764902114868,0.6406737565994263,0.3632633686065674,0.49186766147613525,0.719154953956604,0.5036716461181641,0.5507891178131104,0.8588692545890808,0.8420902490615845,0.5039999485015869,0.4185931384563446,0.7161073684692383,0.2747970521450043,0.37928882241249084,0.5622168779373169,0.6047160625457764]],\"type\":\"heatmap\",\"xaxis\":\"x\",\"yaxis\":\"y\",\"hovertemplate\":\"x: %{x}<br>y: %{y}<br>color: %{z}<extra></extra>\"}],                        {\"template\":{\"data\":{\"histogram2dcontour\":[{\"type\":\"histogram2dcontour\",\"colorbar\":{\"outlinewidth\":0,\"ticks\":\"\"},\"colorscale\":[[0.0,\"#0d0887\"],[0.1111111111111111,\"#46039f\"],[0.2222222222222222,\"#7201a8\"],[0.3333333333333333,\"#9c179e\"],[0.4444444444444444,\"#bd3786\"],[0.5555555555555556,\"#d8576b\"],[0.6666666666666666,\"#ed7953\"],[0.7777777777777778,\"#fb9f3a\"],[0.8888888888888888,\"#fdca26\"],[1.0,\"#f0f921\"]]}],\"choropleth\":[{\"type\":\"choropleth\",\"colorbar\":{\"outlinewidth\":0,\"ticks\":\"\"}}],\"histogram2d\":[{\"type\":\"histogram2d\",\"colorbar\":{\"outlinewidth\":0,\"ticks\":\"\"},\"colorscale\":[[0.0,\"#0d0887\"],[0.1111111111111111,\"#46039f\"],[0.2222222222222222,\"#7201a8\"],[0.3333333333333333,\"#9c179e\"],[0.4444444444444444,\"#bd3786\"],[0.5555555555555556,\"#d8576b\"],[0.6666666666666666,\"#ed7953\"],[0.7777777777777778,\"#fb9f3a\"],[0.8888888888888888,\"#fdca26\"],[1.0,\"#f0f921\"]]}],\"heatmap\":[{\"type\":\"heatmap\",\"colorbar\":{\"outlinewidth\":0,\"ticks\":\"\"},\"colorscale\":[[0.0,\"#0d0887\"],[0.1111111111111111,\"#46039f\"],[0.2222222222222222,\"#7201a8\"],[0.3333333333333333,\"#9c179e\"],[0.4444444444444444,\"#bd3786\"],[0.5555555555555556,\"#d8576b\"],[0.6666666666666666,\"#ed7953\"],[0.7777777777777778,\"#fb9f3a\"],[0.8888888888888888,\"#fdca26\"],[1.0,\"#f0f921\"]]}],\"heatmapgl\":[{\"type\":\"heatmapgl\",\"colorbar\":{\"outlinewidth\":0,\"ticks\":\"\"},\"colorscale\":[[0.0,\"#0d0887\"],[0.1111111111111111,\"#46039f\"],[0.2222222222222222,\"#7201a8\"],[0.3333333333333333,\"#9c179e\"],[0.4444444444444444,\"#bd3786\"],[0.5555555555555556,\"#d8576b\"],[0.6666666666666666,\"#ed7953\"],[0.7777777777777778,\"#fb9f3a\"],[0.8888888888888888,\"#fdca26\"],[1.0,\"#f0f921\"]]}],\"contourcarpet\":[{\"type\":\"contourcarpet\",\"colorbar\":{\"outlinewidth\":0,\"ticks\":\"\"}}],\"contour\":[{\"type\":\"contour\",\"colorbar\":{\"outlinewidth\":0,\"ticks\":\"\"},\"colorscale\":[[0.0,\"#0d0887\"],[0.1111111111111111,\"#46039f\"],[0.2222222222222222,\"#7201a8\"],[0.3333333333333333,\"#9c179e\"],[0.4444444444444444,\"#bd3786\"],[0.5555555555555556,\"#d8576b\"],[0.6666666666666666,\"#ed7953\"],[0.7777777777777778,\"#fb9f3a\"],[0.8888888888888888,\"#fdca26\"],[1.0,\"#f0f921\"]]}],\"surface\":[{\"type\":\"surface\",\"colorbar\":{\"outlinewidth\":0,\"ticks\":\"\"},\"colorscale\":[[0.0,\"#0d0887\"],[0.1111111111111111,\"#46039f\"],[0.2222222222222222,\"#7201a8\"],[0.3333333333333333,\"#9c179e\"],[0.4444444444444444,\"#bd3786\"],[0.5555555555555556,\"#d8576b\"],[0.6666666666666666,\"#ed7953\"],[0.7777777777777778,\"#fb9f3a\"],[0.8888888888888888,\"#fdca26\"],[1.0,\"#f0f921\"]]}],\"mesh3d\":[{\"type\":\"mesh3d\",\"colorbar\":{\"outlinewidth\":0,\"ticks\":\"\"}}],\"scatter\":[{\"fillpattern\":{\"fillmode\":\"overlay\",\"size\":10,\"solidity\":0.2},\"type\":\"scatter\"}],\"parcoords\":[{\"type\":\"parcoords\",\"line\":{\"colorbar\":{\"outlinewidth\":0,\"ticks\":\"\"}}}],\"scatterpolargl\":[{\"type\":\"scatterpolargl\",\"marker\":{\"colorbar\":{\"outlinewidth\":0,\"ticks\":\"\"}}}],\"bar\":[{\"error_x\":{\"color\":\"#2a3f5f\"},\"error_y\":{\"color\":\"#2a3f5f\"},\"marker\":{\"line\":{\"color\":\"#E5ECF6\",\"width\":0.5},\"pattern\":{\"fillmode\":\"overlay\",\"size\":10,\"solidity\":0.2}},\"type\":\"bar\"}],\"scattergeo\":[{\"type\":\"scattergeo\",\"marker\":{\"colorbar\":{\"outlinewidth\":0,\"ticks\":\"\"}}}],\"scatterpolar\":[{\"type\":\"scatterpolar\",\"marker\":{\"colorbar\":{\"outlinewidth\":0,\"ticks\":\"\"}}}],\"histogram\":[{\"marker\":{\"pattern\":{\"fillmode\":\"overlay\",\"size\":10,\"solidity\":0.2}},\"type\":\"histogram\"}],\"scattergl\":[{\"type\":\"scattergl\",\"marker\":{\"colorbar\":{\"outlinewidth\":0,\"ticks\":\"\"}}}],\"scatter3d\":[{\"type\":\"scatter3d\",\"line\":{\"colorbar\":{\"outlinewidth\":0,\"ticks\":\"\"}},\"marker\":{\"colorbar\":{\"outlinewidth\":0,\"ticks\":\"\"}}}],\"scattermapbox\":[{\"type\":\"scattermapbox\",\"marker\":{\"colorbar\":{\"outlinewidth\":0,\"ticks\":\"\"}}}],\"scatterternary\":[{\"type\":\"scatterternary\",\"marker\":{\"colorbar\":{\"outlinewidth\":0,\"ticks\":\"\"}}}],\"scattercarpet\":[{\"type\":\"scattercarpet\",\"marker\":{\"colorbar\":{\"outlinewidth\":0,\"ticks\":\"\"}}}],\"carpet\":[{\"aaxis\":{\"endlinecolor\":\"#2a3f5f\",\"gridcolor\":\"white\",\"linecolor\":\"white\",\"minorgridcolor\":\"white\",\"startlinecolor\":\"#2a3f5f\"},\"baxis\":{\"endlinecolor\":\"#2a3f5f\",\"gridcolor\":\"white\",\"linecolor\":\"white\",\"minorgridcolor\":\"white\",\"startlinecolor\":\"#2a3f5f\"},\"type\":\"carpet\"}],\"table\":[{\"cells\":{\"fill\":{\"color\":\"#EBF0F8\"},\"line\":{\"color\":\"white\"}},\"header\":{\"fill\":{\"color\":\"#C8D4E3\"},\"line\":{\"color\":\"white\"}},\"type\":\"table\"}],\"barpolar\":[{\"marker\":{\"line\":{\"color\":\"#E5ECF6\",\"width\":0.5},\"pattern\":{\"fillmode\":\"overlay\",\"size\":10,\"solidity\":0.2}},\"type\":\"barpolar\"}],\"pie\":[{\"automargin\":true,\"type\":\"pie\"}]},\"layout\":{\"autotypenumbers\":\"strict\",\"colorway\":[\"#636efa\",\"#EF553B\",\"#00cc96\",\"#ab63fa\",\"#FFA15A\",\"#19d3f3\",\"#FF6692\",\"#B6E880\",\"#FF97FF\",\"#FECB52\"],\"font\":{\"color\":\"#2a3f5f\"},\"hovermode\":\"closest\",\"hoverlabel\":{\"align\":\"left\"},\"paper_bgcolor\":\"white\",\"plot_bgcolor\":\"#E5ECF6\",\"polar\":{\"bgcolor\":\"#E5ECF6\",\"angularaxis\":{\"gridcolor\":\"white\",\"linecolor\":\"white\",\"ticks\":\"\"},\"radialaxis\":{\"gridcolor\":\"white\",\"linecolor\":\"white\",\"ticks\":\"\"}},\"ternary\":{\"bgcolor\":\"#E5ECF6\",\"aaxis\":{\"gridcolor\":\"white\",\"linecolor\":\"white\",\"ticks\":\"\"},\"baxis\":{\"gridcolor\":\"white\",\"linecolor\":\"white\",\"ticks\":\"\"},\"caxis\":{\"gridcolor\":\"white\",\"linecolor\":\"white\",\"ticks\":\"\"}},\"coloraxis\":{\"colorbar\":{\"outlinewidth\":0,\"ticks\":\"\"}},\"colorscale\":{\"sequential\":[[0.0,\"#0d0887\"],[0.1111111111111111,\"#46039f\"],[0.2222222222222222,\"#7201a8\"],[0.3333333333333333,\"#9c179e\"],[0.4444444444444444,\"#bd3786\"],[0.5555555555555556,\"#d8576b\"],[0.6666666666666666,\"#ed7953\"],[0.7777777777777778,\"#fb9f3a\"],[0.8888888888888888,\"#fdca26\"],[1.0,\"#f0f921\"]],\"sequentialminus\":[[0.0,\"#0d0887\"],[0.1111111111111111,\"#46039f\"],[0.2222222222222222,\"#7201a8\"],[0.3333333333333333,\"#9c179e\"],[0.4444444444444444,\"#bd3786\"],[0.5555555555555556,\"#d8576b\"],[0.6666666666666666,\"#ed7953\"],[0.7777777777777778,\"#fb9f3a\"],[0.8888888888888888,\"#fdca26\"],[1.0,\"#f0f921\"]],\"diverging\":[[0,\"#8e0152\"],[0.1,\"#c51b7d\"],[0.2,\"#de77ae\"],[0.3,\"#f1b6da\"],[0.4,\"#fde0ef\"],[0.5,\"#f7f7f7\"],[0.6,\"#e6f5d0\"],[0.7,\"#b8e186\"],[0.8,\"#7fbc41\"],[0.9,\"#4d9221\"],[1,\"#276419\"]]},\"xaxis\":{\"gridcolor\":\"white\",\"linecolor\":\"white\",\"ticks\":\"\",\"title\":{\"standoff\":15},\"zerolinecolor\":\"white\",\"automargin\":true,\"zerolinewidth\":2},\"yaxis\":{\"gridcolor\":\"white\",\"linecolor\":\"white\",\"ticks\":\"\",\"title\":{\"standoff\":15},\"zerolinecolor\":\"white\",\"automargin\":true,\"zerolinewidth\":2},\"scene\":{\"xaxis\":{\"backgroundcolor\":\"#E5ECF6\",\"gridcolor\":\"white\",\"linecolor\":\"white\",\"showbackground\":true,\"ticks\":\"\",\"zerolinecolor\":\"white\",\"gridwidth\":2},\"yaxis\":{\"backgroundcolor\":\"#E5ECF6\",\"gridcolor\":\"white\",\"linecolor\":\"white\",\"showbackground\":true,\"ticks\":\"\",\"zerolinecolor\":\"white\",\"gridwidth\":2},\"zaxis\":{\"backgroundcolor\":\"#E5ECF6\",\"gridcolor\":\"white\",\"linecolor\":\"white\",\"showbackground\":true,\"ticks\":\"\",\"zerolinecolor\":\"white\",\"gridwidth\":2}},\"shapedefaults\":{\"line\":{\"color\":\"#2a3f5f\"}},\"annotationdefaults\":{\"arrowcolor\":\"#2a3f5f\",\"arrowhead\":0,\"arrowwidth\":1},\"geo\":{\"bgcolor\":\"white\",\"landcolor\":\"#E5ECF6\",\"subunitcolor\":\"white\",\"showland\":true,\"showlakes\":true,\"lakecolor\":\"white\"},\"title\":{\"x\":0.05},\"mapbox\":{\"style\":\"light\"}}},\"xaxis\":{\"anchor\":\"y\",\"domain\":[0.0,1.0],\"scaleanchor\":\"y\",\"constrain\":\"domain\"},\"yaxis\":{\"anchor\":\"x\",\"domain\":[0.0,1.0],\"autorange\":\"reversed\",\"constrain\":\"domain\"},\"coloraxis\":{\"colorscale\":[[0.0,\"#0d0887\"],[0.1111111111111111,\"#46039f\"],[0.2222222222222222,\"#7201a8\"],[0.3333333333333333,\"#9c179e\"],[0.4444444444444444,\"#bd3786\"],[0.5555555555555556,\"#d8576b\"],[0.6666666666666666,\"#ed7953\"],[0.7777777777777778,\"#fb9f3a\"],[0.8888888888888888,\"#fdca26\"],[1.0,\"#f0f921\"]]},\"margin\":{\"t\":60}},                        {\"responsive\": true}                    ).then(function(){\n",
       "                            \n",
       "var gd = document.getElementById('7e43f833-b264-4fd9-a3a3-7a2654fce384');\n",
       "var x = new MutationObserver(function (mutations, observer) {{\n",
       "        var display = window.getComputedStyle(gd).display;\n",
       "        if (!display || display === 'none') {{\n",
       "            console.log([gd, 'removed!']);\n",
       "            Plotly.purge(gd);\n",
       "            observer.disconnect();\n",
       "        }}\n",
       "}});\n",
       "\n",
       "// Listen for the removal of the full notebook cells\n",
       "var notebookContainer = gd.closest('#notebook-container');\n",
       "if (notebookContainer) {{\n",
       "    x.observe(notebookContainer, {childList: true});\n",
       "}}\n",
       "\n",
       "// Listen for the clearing of the current output cell\n",
       "var outputEl = gd.closest('.output');\n",
       "if (outputEl) {{\n",
       "    x.observe(outputEl, {childList: true});\n",
       "}}\n",
       "\n",
       "                        })                };                });            </script>        </div>"
      ]
     },
     "metadata": {},
     "output_type": "display_data"
    }
   ],
   "source": [
    "from plotly import express as px\n",
    "fig = px.imshow(mat[:,(mat>0.1).any(axis=0)].transpose(),x=x,\n",
    "                y=np.array(y)[np.where((mat>0.1).any(axis=0))])#, width=10,height=10)\n",
    "# fig.update_xaxes(side=\"top\")\n",
    "fig.show()"
   ]
  },
  {
   "cell_type": "code",
   "execution_count": 146,
   "id": "4baa4c66-a0cc-4abf-b98d-e8bc70d60dc0",
   "metadata": {
    "tags": []
   },
   "outputs": [
    {
     "data": {
      "text/plain": [
       "(20, 5)"
      ]
     },
     "execution_count": 146,
     "metadata": {},
     "output_type": "execute_result"
    }
   ],
   "source": [
    "mat[:,(mat>0.1).any(axis=0)].shape"
   ]
  },
  {
   "cell_type": "code",
   "execution_count": 148,
   "id": "4cb7d6a2-790a-41cf-be3f-748298f5362c",
   "metadata": {},
   "outputs": [
    {
     "data": {
      "text/plain": [
       "(array([  0,   6,   7,   8, 117]),)"
      ]
     },
     "execution_count": 148,
     "metadata": {},
     "output_type": "execute_result"
    }
   ],
   "source": [
    "np.where((mat>0.1).any(axis=0))"
   ]
  },
  {
   "cell_type": "code",
   "execution_count": 150,
   "id": "d20fad5b-530d-470a-b76f-1d6d4bbee38e",
   "metadata": {},
   "outputs": [
    {
     "data": {
      "text/plain": [
       "array(['<s>', 'Ġworking', 'ĠHoliday', 'ĠMaker', '.'], dtype='<U11')"
      ]
     },
     "execution_count": 150,
     "metadata": {},
     "output_type": "execute_result"
    }
   ],
   "source": [
    "np.array(y)[np.where((mat>0.1).any(axis=0))]"
   ]
  },
  {
   "cell_type": "code",
   "execution_count": null,
   "id": "e2d070d9-737b-493b-822d-dd0cb1087896",
   "metadata": {},
   "outputs": [],
   "source": []
  }
 ],
 "metadata": {
  "kernelspec": {
   "display_name": "Python 3 (ipykernel)",
   "language": "python",
   "name": "python3"
  },
  "language_info": {
   "codemirror_mode": {
    "name": "ipython",
    "version": 3
   },
   "file_extension": ".py",
   "mimetype": "text/x-python",
   "name": "python",
   "nbconvert_exporter": "python",
   "pygments_lexer": "ipython3",
   "version": "3.7.12"
  }
 },
 "nbformat": 4,
 "nbformat_minor": 5
}
