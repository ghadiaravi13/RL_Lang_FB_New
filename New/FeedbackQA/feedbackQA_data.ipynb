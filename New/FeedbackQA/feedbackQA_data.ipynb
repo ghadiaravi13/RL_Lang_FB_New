{
 "cells": [
  {
   "cell_type": "code",
   "execution_count": 2,
   "id": "66a39478-cb4b-45d2-98c9-234da5a50aff",
   "metadata": {
    "collapsed": true,
    "jupyter": {
     "outputs_hidden": true
    },
    "tags": []
   },
   "outputs": [
    {
     "name": "stderr",
     "output_type": "stream",
     "text": [
      "Found cached dataset feedback_qa (/home/raja/.cache/huggingface/datasets/McGill-NLP___feedback_qa/plain_text/1.0.0/20c8f938f417c88303bb7041cea9554c1d14667686d7d7c5dda83dd4f39e5dc4)\n"
     ]
    },
    {
     "data": {
      "application/json": {
       "ascii": false,
       "bar_format": null,
       "colour": null,
       "elapsed": 0.021534204483032227,
       "initial": 0,
       "n": 0,
       "ncols": null,
       "nrows": 43,
       "postfix": null,
       "prefix": "",
       "rate": null,
       "total": 3,
       "unit": "it",
       "unit_divisor": 1000,
       "unit_scale": false
      },
      "application/vnd.jupyter.widget-view+json": {
       "model_id": "cdcd5a5df17b494c9a79b0c31a6bf59c",
       "version_major": 2,
       "version_minor": 0
      },
      "text/plain": [
       "  0%|          | 0/3 [00:00<?, ?it/s]"
      ]
     },
     "metadata": {},
     "output_type": "display_data"
    }
   ],
   "source": [
    "import numpy as np\n",
    "import pandas as pd\n",
    "from datasets import load_dataset\n",
    "\n",
    "dataset = load_dataset(\"McGill-NLP/feedbackQA\")"
   ]
  },
  {
   "cell_type": "code",
   "execution_count": 3,
   "id": "fdd6b597-410f-4725-9ab0-f7a965594fc9",
   "metadata": {
    "tags": []
   },
   "outputs": [
    {
     "data": {
      "text/plain": [
       "DatasetDict({\n",
       "    train: Dataset({\n",
       "        features: ['question', 'answer', 'feedback'],\n",
       "        num_rows: 5660\n",
       "    })\n",
       "    validation: Dataset({\n",
       "        features: ['question', 'answer', 'feedback'],\n",
       "        num_rows: 1410\n",
       "    })\n",
       "    test: Dataset({\n",
       "        features: ['question', 'answer', 'feedback'],\n",
       "        num_rows: 1995\n",
       "    })\n",
       "})"
      ]
     },
     "execution_count": 3,
     "metadata": {},
     "output_type": "execute_result"
    }
   ],
   "source": [
    "dataset"
   ]
  },
  {
   "cell_type": "code",
   "execution_count": 16,
   "id": "c4bd1f63-a3a3-4249-9cba-c27656031782",
   "metadata": {
    "tags": []
   },
   "outputs": [
    {
     "data": {
      "text/html": [
       "<div>\n",
       "<style scoped>\n",
       "    .dataframe tbody tr th:only-of-type {\n",
       "        vertical-align: middle;\n",
       "    }\n",
       "\n",
       "    .dataframe tbody tr th {\n",
       "        vertical-align: top;\n",
       "    }\n",
       "\n",
       "    .dataframe thead th {\n",
       "        text-align: right;\n",
       "    }\n",
       "</style>\n",
       "<table border=\"1\" class=\"dataframe\">\n",
       "  <thead>\n",
       "    <tr style=\"text-align: right;\">\n",
       "      <th></th>\n",
       "      <th>question</th>\n",
       "      <th>answer</th>\n",
       "      <th>feedback</th>\n",
       "    </tr>\n",
       "  </thead>\n",
       "  <tbody>\n",
       "    <tr>\n",
       "      <th>0</th>\n",
       "      <td>How do I get help finding a job?</td>\n",
       "      <td>Coronavirus (COVID-19) information for job see...</td>\n",
       "      <td>{'rating': ['Excellent', 'Could be Improved'],...</td>\n",
       "    </tr>\n",
       "    <tr>\n",
       "      <th>1</th>\n",
       "      <td>How do I get help finding a job?</td>\n",
       "      <td>Coronavirus (COVID-19) information for job see...</td>\n",
       "      <td>{'rating': ['Excellent', 'Excellent'], 'explan...</td>\n",
       "    </tr>\n",
       "    <tr>\n",
       "      <th>2</th>\n",
       "      <td>How do I get help finding a job?</td>\n",
       "      <td>Coronavirus (COVID-19) information and support...</td>\n",
       "      <td>{'rating': ['Bad', 'Acceptable'], 'explanation...</td>\n",
       "    </tr>\n",
       "    <tr>\n",
       "      <th>3</th>\n",
       "      <td>If I am in Australia on a worker holiday marke...</td>\n",
       "      <td>Frequently Asked Questions\\nWorking holiday ma...</td>\n",
       "      <td>{'rating': ['Could be Improved', 'Acceptable']...</td>\n",
       "    </tr>\n",
       "    <tr>\n",
       "      <th>4</th>\n",
       "      <td>If I am in Australia on a worker holiday marke...</td>\n",
       "      <td>Frequently Asked Questions\\nCOVID-19 Pandemic ...</td>\n",
       "      <td>{'rating': ['Bad', 'Could be Improved'], 'expl...</td>\n",
       "    </tr>\n",
       "    <tr>\n",
       "      <th>...</th>\n",
       "      <td>...</td>\n",
       "      <td>...</td>\n",
       "      <td>...</td>\n",
       "    </tr>\n",
       "    <tr>\n",
       "      <th>5655</th>\n",
       "      <td>Can you explain to me what self-care is</td>\n",
       "      <td>Q&amp;A: Self-care interventions for sexual and re...</td>\n",
       "      <td>{'rating': ['Excellent', 'Excellent'], 'explan...</td>\n",
       "    </tr>\n",
       "    <tr>\n",
       "      <th>5656</th>\n",
       "      <td>Can you explain to me what self-care is</td>\n",
       "      <td>Q&amp;A: Self-care interventions for sexual and re...</td>\n",
       "      <td>{'rating': ['Excellent', 'Bad'], 'explanation'...</td>\n",
       "    </tr>\n",
       "    <tr>\n",
       "      <th>5657</th>\n",
       "      <td>Is it safe for me to manually replace my IUD a...</td>\n",
       "      <td>Q&amp;A: Contraception/Family planning and COVID-1...</td>\n",
       "      <td>{'rating': ['Bad', 'Bad'], 'explanation': ['Do...</td>\n",
       "    </tr>\n",
       "    <tr>\n",
       "      <th>5658</th>\n",
       "      <td>Is it safe for me to manually replace my IUD a...</td>\n",
       "      <td>Q&amp;A: Infection prevention and control for heal...</td>\n",
       "      <td>{'rating': ['Bad', 'Bad'], 'explanation': ['Do...</td>\n",
       "    </tr>\n",
       "    <tr>\n",
       "      <th>5659</th>\n",
       "      <td>Is it safe for me to manually replace my IUD a...</td>\n",
       "      <td>Q&amp;A: Contraception/Family planning and COVID-1...</td>\n",
       "      <td>{'rating': ['Excellent', 'Excellent'], 'explan...</td>\n",
       "    </tr>\n",
       "  </tbody>\n",
       "</table>\n",
       "<p>5660 rows × 3 columns</p>\n",
       "</div>"
      ],
      "text/plain": [
       "                                               question  \\\n",
       "0                      How do I get help finding a job?   \n",
       "1                      How do I get help finding a job?   \n",
       "2                      How do I get help finding a job?   \n",
       "3     If I am in Australia on a worker holiday marke...   \n",
       "4     If I am in Australia on a worker holiday marke...   \n",
       "...                                                 ...   \n",
       "5655            Can you explain to me what self-care is   \n",
       "5656            Can you explain to me what self-care is   \n",
       "5657  Is it safe for me to manually replace my IUD a...   \n",
       "5658  Is it safe for me to manually replace my IUD a...   \n",
       "5659  Is it safe for me to manually replace my IUD a...   \n",
       "\n",
       "                                                 answer  \\\n",
       "0     Coronavirus (COVID-19) information for job see...   \n",
       "1     Coronavirus (COVID-19) information for job see...   \n",
       "2     Coronavirus (COVID-19) information and support...   \n",
       "3     Frequently Asked Questions\\nWorking holiday ma...   \n",
       "4     Frequently Asked Questions\\nCOVID-19 Pandemic ...   \n",
       "...                                                 ...   \n",
       "5655  Q&A: Self-care interventions for sexual and re...   \n",
       "5656  Q&A: Self-care interventions for sexual and re...   \n",
       "5657  Q&A: Contraception/Family planning and COVID-1...   \n",
       "5658  Q&A: Infection prevention and control for heal...   \n",
       "5659  Q&A: Contraception/Family planning and COVID-1...   \n",
       "\n",
       "                                               feedback  \n",
       "0     {'rating': ['Excellent', 'Could be Improved'],...  \n",
       "1     {'rating': ['Excellent', 'Excellent'], 'explan...  \n",
       "2     {'rating': ['Bad', 'Acceptable'], 'explanation...  \n",
       "3     {'rating': ['Could be Improved', 'Acceptable']...  \n",
       "4     {'rating': ['Bad', 'Could be Improved'], 'expl...  \n",
       "...                                                 ...  \n",
       "5655  {'rating': ['Excellent', 'Excellent'], 'explan...  \n",
       "5656  {'rating': ['Excellent', 'Bad'], 'explanation'...  \n",
       "5657  {'rating': ['Bad', 'Bad'], 'explanation': ['Do...  \n",
       "5658  {'rating': ['Bad', 'Bad'], 'explanation': ['Do...  \n",
       "5659  {'rating': ['Excellent', 'Excellent'], 'explan...  \n",
       "\n",
       "[5660 rows x 3 columns]"
      ]
     },
     "execution_count": 16,
     "metadata": {},
     "output_type": "execute_result"
    }
   ],
   "source": [
    "df = pd.DataFrame(dataset['train'])\n",
    "df"
   ]
  },
  {
   "cell_type": "code",
   "execution_count": 17,
   "id": "d9ff0674-f094-4d41-ac40-5b2281fb2fc1",
   "metadata": {
    "tags": []
   },
   "outputs": [
    {
     "data": {
      "text/plain": [
       "3    1886\n",
       "2       1\n",
       "Name: question, dtype: int64"
      ]
     },
     "execution_count": 17,
     "metadata": {},
     "output_type": "execute_result"
    }
   ],
   "source": [
    "(df['question'].value_counts()).value_counts()"
   ]
  },
  {
   "cell_type": "code",
   "execution_count": 18,
   "id": "7c56168b-8a06-49b5-acaa-2dcf96884623",
   "metadata": {
    "tags": []
   },
   "outputs": [],
   "source": [
    "rating_scores = {'Excellent':3 , 'Acceptable':2 , 'Could be Improved':1, 'Bad': -1}"
   ]
  },
  {
   "cell_type": "code",
   "execution_count": 19,
   "id": "bb1f3887-ffb9-43ce-b40e-cd2e4f70533f",
   "metadata": {
    "tags": []
   },
   "outputs": [],
   "source": [
    "df['expanded_feedback'] = df['feedback'].apply(lambda x: (rating_scores[x['rating'][i]], x['rating'][i], x['explanation'][i] ) for i in [np.random.randint(0,2)] )"
   ]
  },
  {
   "cell_type": "code",
   "execution_count": 20,
   "id": "c1a2561e-96a6-49b0-9014-5cbbf43458e4",
   "metadata": {
    "tags": []
   },
   "outputs": [
    {
     "data": {
      "text/plain": [
       "0       (1, Could be Improved, This answer provides a ...\n",
       "1       (3, Excellent, Includes a link to a Jobs Hub p...\n",
       "2       (2, Acceptable, This answer discusses the Empl...\n",
       "3       (2, Acceptable, Answer is rather cut and dry b...\n",
       "4       (1, Could be Improved, This answer is very vag...\n",
       "                              ...                        \n",
       "5655    (3, Excellent, This is a direct answer to the ...\n",
       "5656    (-1, Bad, This does not answer the question. T...\n",
       "5657    (-1, Bad, The answer is irrelevant to the ques...\n",
       "5658    (-1, Bad, This answer is irrelevant to the que...\n",
       "5659    (3, Excellent, This information answers the qu...\n",
       "Name: expanded_feedback, Length: 5660, dtype: object"
      ]
     },
     "execution_count": 20,
     "metadata": {},
     "output_type": "execute_result"
    }
   ],
   "source": [
    "df['expanded_feedback']"
   ]
  },
  {
   "cell_type": "code",
   "execution_count": 21,
   "id": "941db304-98d3-450b-a22e-a35f21d962eb",
   "metadata": {
    "tags": []
   },
   "outputs": [],
   "source": [
    "df['rating_score'] = df['expanded_feedback'].apply(lambda x: x[0])\n",
    "df['rating'] = df['expanded_feedback'].apply(lambda x: x[1])\n",
    "df['explanation'] = df['expanded_feedback'].apply(lambda x: x[2])"
   ]
  },
  {
   "cell_type": "code",
   "execution_count": 22,
   "id": "221609dd-9384-4209-adcd-61bc3d6645cd",
   "metadata": {
    "tags": []
   },
   "outputs": [
    {
     "data": {
      "text/plain": [
       "question                              How do I get help finding a job?\n",
       "answer               Coronavirus (COVID-19) information for job see...\n",
       "feedback             {'rating': ['Excellent', 'Could be Improved'],...\n",
       "expanded_feedback    (1, Could be Improved, This answer provides a ...\n",
       "rating_score                                                         1\n",
       "rating                                               Could be Improved\n",
       "explanation          This answer provides a link for job searches, ...\n",
       "Name: 0, dtype: object"
      ]
     },
     "execution_count": 22,
     "metadata": {},
     "output_type": "execute_result"
    }
   ],
   "source": [
    "df.loc[0]"
   ]
  },
  {
   "cell_type": "code",
   "execution_count": 23,
   "id": "6668c30b-c889-4811-96eb-3c62212d9d6c",
   "metadata": {
    "tags": []
   },
   "outputs": [
    {
     "data": {
      "text/plain": [
       "Bad                  1906\n",
       "Excellent            1656\n",
       "Could be Improved    1078\n",
       "Acceptable           1020\n",
       "Name: rating, dtype: int64"
      ]
     },
     "execution_count": 23,
     "metadata": {},
     "output_type": "execute_result"
    }
   ],
   "source": [
    "df['rating'].value_counts()"
   ]
  },
  {
   "cell_type": "code",
   "execution_count": 24,
   "id": "f3459cbd-9eee-420b-a69e-2c94001b6715",
   "metadata": {
    "tags": []
   },
   "outputs": [
    {
     "data": {
      "text/html": [
       "<div>\n",
       "<style scoped>\n",
       "    .dataframe tbody tr th:only-of-type {\n",
       "        vertical-align: middle;\n",
       "    }\n",
       "\n",
       "    .dataframe tbody tr th {\n",
       "        vertical-align: top;\n",
       "    }\n",
       "\n",
       "    .dataframe thead th {\n",
       "        text-align: right;\n",
       "    }\n",
       "</style>\n",
       "<table border=\"1\" class=\"dataframe\">\n",
       "  <thead>\n",
       "    <tr style=\"text-align: right;\">\n",
       "      <th></th>\n",
       "      <th>question</th>\n",
       "      <th>answer</th>\n",
       "      <th>feedback</th>\n",
       "      <th>expanded_feedback</th>\n",
       "      <th>rating_score</th>\n",
       "      <th>rating</th>\n",
       "      <th>explanation</th>\n",
       "    </tr>\n",
       "  </thead>\n",
       "  <tbody>\n",
       "    <tr>\n",
       "      <th>0</th>\n",
       "      <td>How do I get help finding a job?</td>\n",
       "      <td>Coronavirus (COVID-19) information for job see...</td>\n",
       "      <td>{'rating': ['Excellent', 'Could be Improved'],...</td>\n",
       "      <td>(1, Could be Improved, This answer provides a ...</td>\n",
       "      <td>1</td>\n",
       "      <td>Could be Improved</td>\n",
       "      <td>This answer provides a link for job searches, ...</td>\n",
       "    </tr>\n",
       "    <tr>\n",
       "      <th>1</th>\n",
       "      <td>How do I get help finding a job?</td>\n",
       "      <td>Coronavirus (COVID-19) information for job see...</td>\n",
       "      <td>{'rating': ['Excellent', 'Excellent'], 'explan...</td>\n",
       "      <td>(3, Excellent, Includes a link to a Jobs Hub p...</td>\n",
       "      <td>3</td>\n",
       "      <td>Excellent</td>\n",
       "      <td>Includes a link to a Jobs Hub page, which is b...</td>\n",
       "    </tr>\n",
       "    <tr>\n",
       "      <th>2</th>\n",
       "      <td>How do I get help finding a job?</td>\n",
       "      <td>Coronavirus (COVID-19) information and support...</td>\n",
       "      <td>{'rating': ['Bad', 'Acceptable'], 'explanation...</td>\n",
       "      <td>(2, Acceptable, This answer discusses the Empl...</td>\n",
       "      <td>2</td>\n",
       "      <td>Acceptable</td>\n",
       "      <td>This answer discusses the Employment Fund, whi...</td>\n",
       "    </tr>\n",
       "    <tr>\n",
       "      <th>3</th>\n",
       "      <td>If I am in Australia on a worker holiday marke...</td>\n",
       "      <td>Frequently Asked Questions\\nWorking holiday ma...</td>\n",
       "      <td>{'rating': ['Could be Improved', 'Acceptable']...</td>\n",
       "      <td>(2, Acceptable, Answer is rather cut and dry b...</td>\n",
       "      <td>2</td>\n",
       "      <td>Acceptable</td>\n",
       "      <td>Answer is rather cut and dry but is also a lit...</td>\n",
       "    </tr>\n",
       "    <tr>\n",
       "      <th>4</th>\n",
       "      <td>If I am in Australia on a worker holiday marke...</td>\n",
       "      <td>Frequently Asked Questions\\nCOVID-19 Pandemic ...</td>\n",
       "      <td>{'rating': ['Bad', 'Could be Improved'], 'expl...</td>\n",
       "      <td>(1, Could be Improved, This answer is very vag...</td>\n",
       "      <td>1</td>\n",
       "      <td>Could be Improved</td>\n",
       "      <td>This answer is very vague and does not answer ...</td>\n",
       "    </tr>\n",
       "    <tr>\n",
       "      <th>...</th>\n",
       "      <td>...</td>\n",
       "      <td>...</td>\n",
       "      <td>...</td>\n",
       "      <td>...</td>\n",
       "      <td>...</td>\n",
       "      <td>...</td>\n",
       "      <td>...</td>\n",
       "    </tr>\n",
       "    <tr>\n",
       "      <th>5655</th>\n",
       "      <td>Can you explain to me what self-care is</td>\n",
       "      <td>Q&amp;A: Self-care interventions for sexual and re...</td>\n",
       "      <td>{'rating': ['Excellent', 'Excellent'], 'explan...</td>\n",
       "      <td>(3, Excellent, This is a direct answer to the ...</td>\n",
       "      <td>3</td>\n",
       "      <td>Excellent</td>\n",
       "      <td>This is a direct answer to the question. This ...</td>\n",
       "    </tr>\n",
       "    <tr>\n",
       "      <th>5656</th>\n",
       "      <td>Can you explain to me what self-care is</td>\n",
       "      <td>Q&amp;A: Self-care interventions for sexual and re...</td>\n",
       "      <td>{'rating': ['Excellent', 'Bad'], 'explanation'...</td>\n",
       "      <td>(-1, Bad, This does not answer the question. T...</td>\n",
       "      <td>-1</td>\n",
       "      <td>Bad</td>\n",
       "      <td>This does not answer the question. This answer...</td>\n",
       "    </tr>\n",
       "    <tr>\n",
       "      <th>5657</th>\n",
       "      <td>Is it safe for me to manually replace my IUD a...</td>\n",
       "      <td>Q&amp;A: Contraception/Family planning and COVID-1...</td>\n",
       "      <td>{'rating': ['Bad', 'Bad'], 'explanation': ['Do...</td>\n",
       "      <td>(-1, Bad, The answer is irrelevant to the ques...</td>\n",
       "      <td>-1</td>\n",
       "      <td>Bad</td>\n",
       "      <td>The answer is irrelevant to the question. This...</td>\n",
       "    </tr>\n",
       "    <tr>\n",
       "      <th>5658</th>\n",
       "      <td>Is it safe for me to manually replace my IUD a...</td>\n",
       "      <td>Q&amp;A: Infection prevention and control for heal...</td>\n",
       "      <td>{'rating': ['Bad', 'Bad'], 'explanation': ['Do...</td>\n",
       "      <td>(-1, Bad, This answer is irrelevant to the que...</td>\n",
       "      <td>-1</td>\n",
       "      <td>Bad</td>\n",
       "      <td>This answer is irrelevant to the question. Thi...</td>\n",
       "    </tr>\n",
       "    <tr>\n",
       "      <th>5659</th>\n",
       "      <td>Is it safe for me to manually replace my IUD a...</td>\n",
       "      <td>Q&amp;A: Contraception/Family planning and COVID-1...</td>\n",
       "      <td>{'rating': ['Excellent', 'Excellent'], 'explan...</td>\n",
       "      <td>(3, Excellent, This information answers the qu...</td>\n",
       "      <td>3</td>\n",
       "      <td>Excellent</td>\n",
       "      <td>This information answers the question directly...</td>\n",
       "    </tr>\n",
       "  </tbody>\n",
       "</table>\n",
       "<p>5660 rows × 7 columns</p>\n",
       "</div>"
      ],
      "text/plain": [
       "                                               question  \\\n",
       "0                      How do I get help finding a job?   \n",
       "1                      How do I get help finding a job?   \n",
       "2                      How do I get help finding a job?   \n",
       "3     If I am in Australia on a worker holiday marke...   \n",
       "4     If I am in Australia on a worker holiday marke...   \n",
       "...                                                 ...   \n",
       "5655            Can you explain to me what self-care is   \n",
       "5656            Can you explain to me what self-care is   \n",
       "5657  Is it safe for me to manually replace my IUD a...   \n",
       "5658  Is it safe for me to manually replace my IUD a...   \n",
       "5659  Is it safe for me to manually replace my IUD a...   \n",
       "\n",
       "                                                 answer  \\\n",
       "0     Coronavirus (COVID-19) information for job see...   \n",
       "1     Coronavirus (COVID-19) information for job see...   \n",
       "2     Coronavirus (COVID-19) information and support...   \n",
       "3     Frequently Asked Questions\\nWorking holiday ma...   \n",
       "4     Frequently Asked Questions\\nCOVID-19 Pandemic ...   \n",
       "...                                                 ...   \n",
       "5655  Q&A: Self-care interventions for sexual and re...   \n",
       "5656  Q&A: Self-care interventions for sexual and re...   \n",
       "5657  Q&A: Contraception/Family planning and COVID-1...   \n",
       "5658  Q&A: Infection prevention and control for heal...   \n",
       "5659  Q&A: Contraception/Family planning and COVID-1...   \n",
       "\n",
       "                                               feedback  \\\n",
       "0     {'rating': ['Excellent', 'Could be Improved'],...   \n",
       "1     {'rating': ['Excellent', 'Excellent'], 'explan...   \n",
       "2     {'rating': ['Bad', 'Acceptable'], 'explanation...   \n",
       "3     {'rating': ['Could be Improved', 'Acceptable']...   \n",
       "4     {'rating': ['Bad', 'Could be Improved'], 'expl...   \n",
       "...                                                 ...   \n",
       "5655  {'rating': ['Excellent', 'Excellent'], 'explan...   \n",
       "5656  {'rating': ['Excellent', 'Bad'], 'explanation'...   \n",
       "5657  {'rating': ['Bad', 'Bad'], 'explanation': ['Do...   \n",
       "5658  {'rating': ['Bad', 'Bad'], 'explanation': ['Do...   \n",
       "5659  {'rating': ['Excellent', 'Excellent'], 'explan...   \n",
       "\n",
       "                                      expanded_feedback  rating_score  \\\n",
       "0     (1, Could be Improved, This answer provides a ...             1   \n",
       "1     (3, Excellent, Includes a link to a Jobs Hub p...             3   \n",
       "2     (2, Acceptable, This answer discusses the Empl...             2   \n",
       "3     (2, Acceptable, Answer is rather cut and dry b...             2   \n",
       "4     (1, Could be Improved, This answer is very vag...             1   \n",
       "...                                                 ...           ...   \n",
       "5655  (3, Excellent, This is a direct answer to the ...             3   \n",
       "5656  (-1, Bad, This does not answer the question. T...            -1   \n",
       "5657  (-1, Bad, The answer is irrelevant to the ques...            -1   \n",
       "5658  (-1, Bad, This answer is irrelevant to the que...            -1   \n",
       "5659  (3, Excellent, This information answers the qu...             3   \n",
       "\n",
       "                 rating                                        explanation  \n",
       "0     Could be Improved  This answer provides a link for job searches, ...  \n",
       "1             Excellent  Includes a link to a Jobs Hub page, which is b...  \n",
       "2            Acceptable  This answer discusses the Employment Fund, whi...  \n",
       "3            Acceptable  Answer is rather cut and dry but is also a lit...  \n",
       "4     Could be Improved  This answer is very vague and does not answer ...  \n",
       "...                 ...                                                ...  \n",
       "5655          Excellent  This is a direct answer to the question. This ...  \n",
       "5656                Bad  This does not answer the question. This answer...  \n",
       "5657                Bad  The answer is irrelevant to the question. This...  \n",
       "5658                Bad  This answer is irrelevant to the question. Thi...  \n",
       "5659          Excellent  This information answers the question directly...  \n",
       "\n",
       "[5660 rows x 7 columns]"
      ]
     },
     "execution_count": 24,
     "metadata": {},
     "output_type": "execute_result"
    }
   ],
   "source": [
    "data_dict = {'train':df}\n",
    "data_dict['train']"
   ]
  },
  {
   "cell_type": "markdown",
   "id": "9a09dc69-e88c-4f37-a2a4-f2da2198ceaf",
   "metadata": {
    "tags": []
   },
   "source": [
    "## Finetuning"
   ]
  },
  {
   "cell_type": "code",
   "execution_count": 25,
   "id": "c6653833-62b8-43c0-85dc-0d1ef24dc09b",
   "metadata": {
    "tags": []
   },
   "outputs": [],
   "source": [
    "df['ratings'] = df['feedback'].apply(lambda x: x['rating'])\n",
    "df['avg_rating_score'] = df['feedback'].apply(lambda x: sum([rating_scores[x['rating'][i]] for i in range(len(x['rating']))]) / len(x['rating'])  )\n"
   ]
  },
  {
   "cell_type": "code",
   "execution_count": 26,
   "id": "21abc928-35d1-435a-9b7a-2e8608d362e7",
   "metadata": {
    "tags": []
   },
   "outputs": [
    {
     "data": {
      "text/plain": [
       "0       [Excellent, Could be Improved]\n",
       "1               [Excellent, Excellent]\n",
       "5               [Excellent, Excellent]\n",
       "8             [Acceptable, Acceptable]\n",
       "9       [Could be Improved, Excellent]\n",
       "                     ...              \n",
       "5648            [Excellent, Excellent]\n",
       "5652            [Excellent, Excellent]\n",
       "5653           [Excellent, Acceptable]\n",
       "5655            [Excellent, Excellent]\n",
       "5659            [Excellent, Excellent]\n",
       "Name: ratings, Length: 2445, dtype: object"
      ]
     },
     "execution_count": 26,
     "metadata": {},
     "output_type": "execute_result"
    }
   ],
   "source": [
    "df[df['avg_rating_score']>=2]['ratings']"
   ]
  },
  {
   "cell_type": "code",
   "execution_count": 29,
   "id": "b1106105-b1da-4ac2-821c-0e4d4a9cd1c6",
   "metadata": {
    "tags": []
   },
   "outputs": [
    {
     "data": {
      "text/plain": [
       "{'rating': ['Could be Improved', 'Excellent'],\n",
       " 'explanation': [\"Gives some guidance for healthcare workers, but doesn't have any information for the majority of workers.\",\n",
       "  'This is an excellent answer because it describes who can go to work, and what they need in order to return to work.']}"
      ]
     },
     "execution_count": 29,
     "metadata": {},
     "output_type": "execute_result"
    }
   ],
   "source": [
    "df.loc[df[df['avg_rating_score']>=2].groupby('question')['avg_rating_score'].idxmax()].loc[598]['feedback']"
   ]
  },
  {
   "cell_type": "code",
   "execution_count": 128,
   "id": "e3196690-dd09-4f29-be13-c69bd231389e",
   "metadata": {
    "tags": []
   },
   "outputs": [
    {
     "data": {
      "text/plain": [
       "('How do I get help finding a job?',\n",
       " 'Coronavirus (COVID-19) information for job seekers\\nExisiting job seekers\\nIf you are a current job seeker or participant, this fact sheet provides\\nimportant information about mutual obligation requirements, appointments with\\nyour provider, and what to do if you are self-isolating:\\n\\nInformation for job seekers and participants\\n\\nIf you are participating in the ParentsNext program, this fact sheet provides\\nimportant information about your activities and appointments.\\n\\n\\nInformation for ParentsNext participants\\n\\n\\nParentsNext participants Frequently Asked Questions\\n\\n\\nIf you are a New Business Assistance with NEIS participant, these Frequently\\nAsked Questions (FAQ) provides information about accessing the Coronavirus\\nSupplement and what support is available during this time:\\n\\nNew Business Assistance with NEIS participants - Frequently Asked Questions\\n\\nIf you are a New Business Assistance with NEIS provider, these Frequently\\nAsked Questions (FAQ) provides information about supporting NEIS participants\\nduring the Coronavirus situation.\\n\\nNew Business Assistance with NEIS providers – Frequently Asked Questions\\n\\n*[NEIS]: New Enterprise Incentive Scheme',\n",
       " {'rating': ['Excellent', 'Could be Improved'],\n",
       "  'explanation': ['Has a link to detailed information about government programs for job seekers.',\n",
       "   'This answer provides a link for job searches, which is good, but also provides links to unrelated sites.']})"
      ]
     },
     "execution_count": 128,
     "metadata": {},
     "output_type": "execute_result"
    }
   ],
   "source": [
    "df.loc[0]['question'] , df.loc[0]['answer'], df.loc[0]['feedback']"
   ]
  },
  {
   "cell_type": "code",
   "execution_count": null,
   "id": "70fb5a70-2dab-41e5-b992-b64b64e0b026",
   "metadata": {},
   "outputs": [],
   "source": []
  }
 ],
 "metadata": {
  "kernelspec": {
   "display_name": "Python 3 (ipykernel)",
   "language": "python",
   "name": "python3"
  },
  "language_info": {
   "codemirror_mode": {
    "name": "ipython",
    "version": 3
   },
   "file_extension": ".py",
   "mimetype": "text/x-python",
   "name": "python",
   "nbconvert_exporter": "python",
   "pygments_lexer": "ipython3",
   "version": "3.9.17"
  }
 },
 "nbformat": 4,
 "nbformat_minor": 5
}
