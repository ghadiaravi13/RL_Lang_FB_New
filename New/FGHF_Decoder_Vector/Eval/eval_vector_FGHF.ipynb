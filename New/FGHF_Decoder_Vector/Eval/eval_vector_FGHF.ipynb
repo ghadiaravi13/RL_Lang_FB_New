{
 "cells": [
  {
   "cell_type": "code",
   "execution_count": null,
   "id": "f308e1f6-f604-4ef0-a390-ef7c378f93bb",
   "metadata": {},
   "outputs": [],
   "source": [
    "from transformers import T5ForConditionalGeneration\n",
    "\n",
    "model = T5ForConditionalGeneration.from_pretrained('../Model_Checkpoints/t5-large-1k-train')\n",
    "model.config.d_model, model.config.vocab_size"
   ]
  },
  {
   "cell_type": "code",
   "execution_count": null,
   "id": "d38609b6-8d72-4c88-a489-51f5c5890f4e",
   "metadata": {},
   "outputs": [],
   "source": [
    "import torch\n",
    "# lm_head_wts = model.lm_head.weight.detach() #(Vocab,Emb)\n",
    "model.lm_head = torch.nn.Linear(in_features=model.config.d_model,out_features=model.config.vocab_size*3, bias=False)\n",
    "# model.lm_head.weight = torch.nn.Parameter(torch.concat)"
   ]
  },
  {
   "cell_type": "code",
   "execution_count": null,
   "id": "97e28e64-6c8c-46d1-a807-66acf24c4fd0",
   "metadata": {},
   "outputs": [],
   "source": [
    "torch.concat([lm_head_wts]*3).shape"
   ]
  },
  {
   "cell_type": "code",
   "execution_count": null,
   "id": "dfdde4b3-8ccd-4896-98e1-72501de22e08",
   "metadata": {},
   "outputs": [],
   "source": [
    "import torch\n",
    "from torch import nn\n",
    "\n",
    "model.lm_head = nn.Linear(in_features=model.config.d_model, out_features=model.config.vocab_size*3, bias=False)"
   ]
  },
  {
   "cell_type": "code",
   "execution_count": null,
   "id": "bdc02906-8c22-494b-a277-5a2e94313450",
   "metadata": {},
   "outputs": [],
   "source": [
    "curr_lm_head_wts = torch.clone(model.lm_head.weight.detach())\n",
    "curr_lm_head_wts = curr_lm_head_wts.reshape(3, model.config.vocab_size, model.config.d_model)"
   ]
  },
  {
   "cell_type": "code",
   "execution_count": null,
   "id": "2d24b402-dffa-45f6-bd77-2e72091a6c62",
   "metadata": {},
   "outputs": [],
   "source": [
    "model.lm_head = torch.nn.Linear(in_features=model.config.d_model, out_features=model.config.vocab_size, bias=False)"
   ]
  },
  {
   "cell_type": "code",
   "execution_count": null,
   "id": "30795c47-68eb-4f89-b859-34f978c663cc",
   "metadata": {},
   "outputs": [],
   "source": [
    "curr_lm_head_wts[0].shape"
   ]
  },
  {
   "cell_type": "code",
   "execution_count": null,
   "id": "ab4c8d1c-e1dd-4362-8b3d-87c2454bbabc",
   "metadata": {},
   "outputs": [],
   "source": [
    "chkpt = torch.load('../Model_Checkpoints/fine_grained_lr_1e-6/ckp_1750.pth')"
   ]
  },
  {
   "cell_type": "code",
   "execution_count": null,
   "id": "fe9706fd-0bfe-420d-b3e8-3f37143b92fd",
   "metadata": {},
   "outputs": [],
   "source": [
    "model.load_state_dict(chkpt['model'])"
   ]
  },
  {
   "cell_type": "code",
   "execution_count": null,
   "id": "81521087-9842-4d85-bddf-906b37a21156",
   "metadata": {},
   "outputs": [],
   "source": [
    "w1 = model.lm_head.weight.detach().clone()"
   ]
  },
  {
   "cell_type": "code",
   "execution_count": null,
   "id": "a537e1e2-c9ef-4083-89ee-d8590ccc55d7",
   "metadata": {},
   "outputs": [],
   "source": [
    "w = w.reshape(3, model.config.vocab_size, model.config.d_model).clone()\n",
    "w"
   ]
  },
  {
   "cell_type": "code",
   "execution_count": null,
   "id": "17ecc757-aa85-477b-9233-3f358c51d6cf",
   "metadata": {},
   "outputs": [],
   "source": [
    "w = w.reshape(3, model.config.vocab_size, model.config.d_model).clone()\n",
    "w"
   ]
  },
  {
   "cell_type": "code",
   "execution_count": null,
   "id": "59f73f59-7dd9-4ecd-ac3a-4ee36adc3c4f",
   "metadata": {},
   "outputs": [],
   "source": [
    "torch.all(w[0]==w[1])"
   ]
  },
  {
   "cell_type": "code",
   "execution_count": null,
   "id": "a48661ce-83c9-450b-ad3e-ace5a1bbc5df",
   "metadata": {},
   "outputs": [],
   "source": [
    "chkpt = torch.load('../Model_Checkpoints/fine_grained_lr_1e-6/last.pth')"
   ]
  },
  {
   "cell_type": "code",
   "execution_count": null,
   "id": "4d878c22-c46d-4c42-9abf-fd7bfec7d4cc",
   "metadata": {},
   "outputs": [],
   "source": [
    "model.load_state_dict(chkpt['model'])"
   ]
  },
  {
   "cell_type": "code",
   "execution_count": null,
   "id": "38c6165b-efcd-421a-8477-6b95c2322a35",
   "metadata": {},
   "outputs": [],
   "source": [
    "w2 = model.lm_head.weight.detach().clone()"
   ]
  },
  {
   "cell_type": "code",
   "execution_count": null,
   "id": "ff2a606d-fa2c-4437-8997-ec3592352bd1",
   "metadata": {},
   "outputs": [],
   "source": [
    "w1"
   ]
  },
  {
   "cell_type": "code",
   "execution_count": null,
   "id": "349a3aae-704c-40a4-b277-e9f35b364b1b",
   "metadata": {},
   "outputs": [],
   "source": [
    "w2"
   ]
  },
  {
   "cell_type": "code",
   "execution_count": null,
   "id": "b8238bd8-d9a7-4841-ae95-60e71c655f4b",
   "metadata": {},
   "outputs": [],
   "source": [
    "torch.all(w2[:32100]==w2[32100:64200])"
   ]
  },
  {
   "cell_type": "code",
   "execution_count": null,
   "id": "325d9fc1-b22d-4a6e-acbc-65e1254ac89f",
   "metadata": {},
   "outputs": [],
   "source": [
    "w2[:32100]"
   ]
  },
  {
   "cell_type": "code",
   "execution_count": null,
   "id": "7069197a-6a20-43d8-9ceb-f808baaced06",
   "metadata": {},
   "outputs": [],
   "source": [
    "w2[32100:64200]"
   ]
  },
  {
   "cell_type": "code",
   "execution_count": null,
   "id": "0a43144e-f09e-4ba7-a5df-2abb9886b9ee",
   "metadata": {},
   "outputs": [],
   "source": []
  }
 ],
 "metadata": {
  "kernelspec": {
   "display_name": "Python 3 (ipykernel)",
   "language": "python",
   "name": "python3"
  },
  "language_info": {
   "codemirror_mode": {
    "name": "ipython",
    "version": 3
   },
   "file_extension": ".py",
   "mimetype": "text/x-python",
   "name": "python",
   "nbconvert_exporter": "python",
   "pygments_lexer": "ipython3",
   "version": "3.9.17"
  }
 },
 "nbformat": 4,
 "nbformat_minor": 5
}
