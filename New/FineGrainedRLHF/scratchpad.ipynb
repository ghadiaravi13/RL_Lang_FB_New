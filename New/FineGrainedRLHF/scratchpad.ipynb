{
 "cells": [
  {
   "cell_type": "code",
   "execution_count": null,
   "id": "7ba46c3f-7b55-49bf-beb0-7d250b2fda6b",
   "metadata": {
    "tags": []
   },
   "outputs": [],
   "source": [
    "from transformers import AutoTokenizer, AutoModel\n",
    "import torch\n",
    "import torch.nn.functional as F\n",
    "from torch.utils.data import Dataset,DataLoader"
   ]
  },
  {
   "cell_type": "code",
   "execution_count": null,
   "id": "8b5ca958-33df-4efb-a732-1f1be69581df",
   "metadata": {},
   "outputs": [],
   "source": [
    "from transformers import T5ForConditionalGeneration"
   ]
  },
  {
   "cell_type": "code",
   "execution_count": null,
   "id": "72851224-daa7-4516-adbe-d25168ff81de",
   "metadata": {},
   "outputs": [],
   "source": [
    "model"
   ]
  },
  {
   "cell_type": "code",
   "execution_count": null,
   "id": "a8ff3f82-5388-41ec-828f-9c01f75a5653",
   "metadata": {},
   "outputs": [],
   "source": [
    "model1 = AutoModel.from_pretrained('t5-base')\n",
    "model2 = T5ForConditionalGeneration.from_pretrained('t5-base')\n",
    "o1 = model1(torch.tensor([[351]*10,[351]*10,[351]*10]),decoder_input_ids=torch.tensor([[156]*10,[351]*10,[351]*10]))\n",
    "o2 = model2(torch.tensor([[350]*10,[352]*10,[353]*10]),decoder_input_ids=torch.tensor([[150]*10,[351]*10,[768]*10]),output_hidden_states=True)"
   ]
  },
  {
   "cell_type": "code",
   "execution_count": null,
   "id": "26063e15-c642-426e-9c43-9fc8ade70b89",
   "metadata": {},
   "outputs": [],
   "source": [
    "tokenizer = AutoTokenizer.from_pretrained('t5-base')"
   ]
  },
  {
   "cell_type": "code",
   "execution_count": null,
   "id": "35b892d7-2836-4d32-a9ec-db08c9e7b7f7",
   "metadata": {},
   "outputs": [],
   "source": [
    "inp = tokenizer(['Hello, how are you?','There was a village nearby'], return_tensors='pt')"
   ]
  },
  {
   "cell_type": "code",
   "execution_count": null,
   "id": "c5dfeba8-5061-4e8d-944f-33cb138ce742",
   "metadata": {},
   "outputs": [],
   "source": [
    "out = model2.generate(input_ids=inp.input_ids, num_return_sequences=4, do_sample=True)"
   ]
  },
  {
   "cell_type": "code",
   "execution_count": null,
   "id": "2bd84123-3b9b-4703-8d30-947fe0a686f8",
   "metadata": {},
   "outputs": [],
   "source": [
    "tokenizer.batch_decode(out)"
   ]
  },
  {
   "cell_type": "code",
   "execution_count": null,
   "id": "9ca17f51-f4fe-4a17-a20d-7d54ad3dc0a1",
   "metadata": {},
   "outputs": [],
   "source": [
    "o2.decoder_hidden_states[-1].shape"
   ]
  },
  {
   "cell_type": "code",
   "execution_count": null,
   "id": "41ff84f5-c5d9-42ed-b99a-a304ca70422a",
   "metadata": {},
   "outputs": [],
   "source": [
    "l = torch.nn.Linear(768,5)\n",
    "lo = l(o2.decoder_hidden_states[-1].permute(0,1,2))"
   ]
  },
  {
   "cell_type": "code",
   "execution_count": null,
   "id": "82ca9bd2-660a-4e04-b681-36087b3402d8",
   "metadata": {},
   "outputs": [],
   "source": [
    "lo"
   ]
  },
  {
   "cell_type": "code",
   "execution_count": null,
   "id": "71a91221-0203-4fe9-a668-13a89101b7a9",
   "metadata": {},
   "outputs": [],
   "source": [
    "lo.permute(2,0,1)"
   ]
  },
  {
   "cell_type": "code",
   "execution_count": null,
   "id": "087b1b4a-e2bd-40d3-8d07-270b1b0414ed",
   "metadata": {},
   "outputs": [],
   "source": [
    "t = torch.tensor([[[1,2,3,4,5],[6,7,8,9,0]],[[10,20,30,40,50],[60,70,80,90,110]],[[100,200,300,400,500],[600,700,800,900,1100]]])\n",
    "t"
   ]
  },
  {
   "cell_type": "code",
   "execution_count": null,
   "id": "08f72969-d06f-4681-8aa8-4e80a49dbee0",
   "metadata": {},
   "outputs": [],
   "source": [
    "i = torch.tensor([1,2])\n",
    "torch.gather(t,2,i.repeat(3,1)[:,:,None])"
   ]
  },
  {
   "cell_type": "code",
   "execution_count": null,
   "id": "45b4a07a-ddbf-4605-af73-d79fac8d054c",
   "metadata": {},
   "outputs": [],
   "source": [
    "i.repeat(3,1)[:,:,None]"
   ]
  },
  {
   "cell_type": "code",
   "execution_count": null,
   "id": "ec636e8c-2803-4779-b9de-8e5a0d4b648d",
   "metadata": {},
   "outputs": [],
   "source": [
    "torch.distributions.Categorical(t).entropy()"
   ]
  },
  {
   "cell_type": "code",
   "execution_count": null,
   "id": "42930d1c-9492-4566-80b5-0e3519b1118c",
   "metadata": {},
   "outputs": [],
   "source": [
    "t[0,0]"
   ]
  },
  {
   "cell_type": "code",
   "execution_count": null,
   "id": "5a69ec69-a9f7-4734-98a2-015112a847d2",
   "metadata": {},
   "outputs": [],
   "source": [
    "t.repeat(1,3).reshape(2,-1,5)"
   ]
  },
  {
   "cell_type": "code",
   "execution_count": null,
   "id": "ecc10000-c655-4dd0-b45a-b672f648899e",
   "metadata": {},
   "outputs": [],
   "source": [
    "init_wts = model2.lm_head.weight.detach()\n",
    "init_wts.shape"
   ]
  },
  {
   "cell_type": "code",
   "execution_count": null,
   "id": "448b2fca-7091-4fe4-a2cb-9174a05b2986",
   "metadata": {},
   "outputs": [],
   "source": [
    "model2.lm_head = torch.nn.Linear(in_features=768,out_features=32128*3, bias=False)\n",
    "model2.lm_head.weight"
   ]
  },
  {
   "cell_type": "code",
   "execution_count": null,
   "id": "79416ba0-f1ff-45a0-8459-6daa8877ba3f",
   "metadata": {},
   "outputs": [],
   "source": [
    "model2.lm_head.weight = torch.nn.Parameter(init_wts.repeat(3,1))\n",
    "model2.lm_head.weight"
   ]
  },
  {
   "cell_type": "code",
   "execution_count": null,
   "id": "0bb3e5f0-33a7-424a-b3bb-db4892c9d6d0",
   "metadata": {},
   "outputs": [],
   "source": [
    "o = model2(input_ids=torch.tensor([[0,1,2,3,4,5],[0,1,2,3,4,5]]),decoder_input_ids=torch.tensor([[2,4,5,6,3],[2,4,5,6,3]]),output_hidden_states=True)"
   ]
  },
  {
   "cell_type": "code",
   "execution_count": null,
   "id": "091775f5-34cb-47e3-b4e0-5f3f0925f180",
   "metadata": {},
   "outputs": [],
   "source": [
    "o.decoder_hidden_states[-1].shape"
   ]
  },
  {
   "cell_type": "code",
   "execution_count": null,
   "id": "356db7e0-6b7b-4a95-a68e-31136d6b5637",
   "metadata": {},
   "outputs": [],
   "source": [
    "B,SL,V = o.logits.shape\n",
    "SL"
   ]
  },
  {
   "cell_type": "code",
   "execution_count": null,
   "id": "0b45f987-ea48-4ca2-9f21-3c6d263c9f9a",
   "metadata": {},
   "outputs": [],
   "source": [
    "o.logits.reshape(B,SL,3,-1).permute(2,0,1,3)"
   ]
  },
  {
   "cell_type": "code",
   "execution_count": null,
   "id": "68837b57-7e85-424a-a50b-72965c9be929",
   "metadata": {},
   "outputs": [],
   "source": [
    "t = torch.tensor([[1,2,3,4,5],[6,7,8,9,0]])\n",
    "t.index_select(-1,torch.tensor([0]))"
   ]
  },
  {
   "cell_type": "code",
   "execution_count": null,
   "id": "e3bb9a56-cc18-4c71-9e48-d7960f79725c",
   "metadata": {},
   "outputs": [],
   "source": [
    "del(model2.lm_head)"
   ]
  },
  {
   "cell_type": "code",
   "execution_count": null,
   "id": "36c73599-411c-49f0-b3c7-f8f514ddc972",
   "metadata": {},
   "outputs": [],
   "source": [
    "model2"
   ]
  },
  {
   "cell_type": "code",
   "execution_count": null,
   "id": "3fb41fce-1c64-4dfc-886d-b4fe459bcc9d",
   "metadata": {},
   "outputs": [],
   "source": [
    "model2.config"
   ]
  },
  {
   "cell_type": "code",
   "execution_count": null,
   "id": "f76f7a43-4d30-4f12-9fb5-01fbdf6d9d51",
   "metadata": {},
   "outputs": [],
   "source": [
    "t = torch.tensor([[1,2,3],[4,5,6],[7,8,9],[10,11,12]])\n",
    "t.shape"
   ]
  },
  {
   "cell_type": "code",
   "execution_count": null,
   "id": "b4f6ef2e-fa57-4f98-bda2-6b9e3748ce07",
   "metadata": {},
   "outputs": [],
   "source": [
    "t.reshape(2,2,3)"
   ]
  },
  {
   "cell_type": "code",
   "execution_count": null,
   "id": "834c3866-be51-4de2-ba04-8586c055ec53",
   "metadata": {},
   "outputs": [],
   "source": [
    "model2.lm_head.weight"
   ]
  },
  {
   "cell_type": "code",
   "execution_count": null,
   "id": "b6aaa6df-5a08-46a4-86c4-d714d0ee37b1",
   "metadata": {},
   "outputs": [],
   "source": [
    "model2.lm_head.weight = torch.nn.Parameter(torch.clone(model2.lm_head.weight))"
   ]
  },
  {
   "cell_type": "code",
   "execution_count": null,
   "id": "71fa593a-b8f8-4640-b3e6-3d0ef5284dc2",
   "metadata": {},
   "outputs": [],
   "source": [
    "t1 = torch.tensor([[1,2,3],[4,5,6]])\n",
    "t2 = torch.tensor([[7,8,9],[0,1,2]])\n",
    "torch.concat([t1.unsqueeze(0),t2.unsqueeze(0)],dim=0).shape"
   ]
  },
  {
   "cell_type": "code",
   "execution_count": null,
   "id": "12e3928e-1941-419a-ac87-f90eb2ed267e",
   "metadata": {},
   "outputs": [],
   "source": [
    "prompts_text = ['Hello, how are you?','There was a village nearby']\n",
    "[elem for elem in prompts_text for _ in range(4)]*2"
   ]
  },
  {
   "cell_type": "code",
   "execution_count": null,
   "id": "a051c73e-c011-4ab0-b651-a5ecf68467a1",
   "metadata": {},
   "outputs": [],
   "source": [
    "LL = torch.nn.Linear(in_features=768,out_features=4)"
   ]
  },
  {
   "cell_type": "code",
   "execution_count": null,
   "id": "95de568a-ff69-4741-930d-f87d3dafb0c6",
   "metadata": {},
   "outputs": [],
   "source": [
    "op=LL(o2.decoder_hidden_states[-1])\n",
    "len = op.shape[1]\n",
    "op.permute(2,0,1).reshape(-1,len)"
   ]
  },
  {
   "cell_type": "code",
   "execution_count": null,
   "id": "43b1cbfe-cc49-4d00-b6e5-0794011b703c",
   "metadata": {},
   "outputs": [],
   "source": [
    "l = [1,2,3]\n",
    "l*3"
   ]
  },
  {
   "cell_type": "code",
   "execution_count": null,
   "id": "1870b9de-9650-49e8-82c7-5af8439776c2",
   "metadata": {},
   "outputs": [],
   "source": [
    "t1[0].shape"
   ]
  },
  {
   "cell_type": "code",
   "execution_count": null,
   "id": "72bb8611-fc22-4666-8153-8bfefa8129f4",
   "metadata": {},
   "outputs": [],
   "source": [
    "d = {'a':1, 'b':2, 'c':3}\n",
    "d"
   ]
  },
  {
   "cell_type": "code",
   "execution_count": null,
   "id": "826b1cc8-666a-4b2e-9b42-bc7171c59d2f",
   "metadata": {},
   "outputs": [],
   "source": [
    "d.update({'d':4})\n",
    "d"
   ]
  },
  {
   "cell_type": "code",
   "execution_count": null,
   "id": "09bf8c7a-70a5-4f37-9254-cd69c7bc5a34",
   "metadata": {},
   "outputs": [],
   "source": [
    "del(d['d'])"
   ]
  },
  {
   "cell_type": "code",
   "execution_count": null,
   "id": "cf143af7-bd84-44c0-a930-49e0dfaf9b22",
   "metadata": {},
   "outputs": [],
   "source": [
    "d"
   ]
  },
  {
   "cell_type": "code",
   "execution_count": null,
   "id": "2377e8c2-8876-4ff9-bd1d-c75d0cc2a237",
   "metadata": {},
   "outputs": [],
   "source": [
    "t1 = torch.tensor([1,2,3])\n",
    "t2 = torch.tensor([4,5,6])\n",
    "torch.concat([t1,t2])"
   ]
  },
  {
   "cell_type": "code",
   "execution_count": null,
   "id": "d22c574e-4305-4ae7-a418-b6e6f6778696",
   "metadata": {},
   "outputs": [],
   "source": []
  }
 ],
 "metadata": {
  "kernelspec": {
   "display_name": "Python 3 (ipykernel)",
   "language": "python",
   "name": "python3"
  },
  "language_info": {
   "codemirror_mode": {
    "name": "ipython",
    "version": 3
   },
   "file_extension": ".py",
   "mimetype": "text/x-python",
   "name": "python",
   "nbconvert_exporter": "python",
   "pygments_lexer": "ipython3",
   "version": "3.9.17"
  }
 },
 "nbformat": 4,
 "nbformat_minor": 5
}
